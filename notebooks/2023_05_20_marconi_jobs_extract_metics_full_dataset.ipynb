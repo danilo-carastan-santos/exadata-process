{
 "cells": [
  {
   "attachments": {},
   "cell_type": "markdown",
   "metadata": {},
   "source": [
    "# Computing aggregation metrics for the jobs\n",
    "\n",
    "Here i'm using the full processed Marconi100 dataset"
   ]
  },
  {
   "attachments": {},
   "cell_type": "markdown",
   "metadata": {},
   "source": [
    "## Reading all job files"
   ]
  },
  {
   "cell_type": "code",
   "execution_count": 2,
   "metadata": {},
   "outputs": [
    {
     "name": "stdout",
     "output_type": "stream",
     "text": [
      "18\n"
     ]
    }
   ],
   "source": [
    "import glob\n",
    "import pandas as pd\n",
    "\n",
    "DATASET_PATH = \"/home/dancarastan/Documentos/exadata_job_energy_profiles/\"\n",
    "\n",
    "jobfiles_list = glob.glob(DATASET_PATH+\"*\"+\"/plugin=job_table\"+\"/metric=job_info_marconi100\"+\"/a_0_filter123*\")\n",
    "\n",
    "print(len(jobfiles_list))\n",
    "#df_jobs = pd.concat([pd.read_csv(jobfile) for jobfile in jobfiles_list]).reset_index(drop=True)\n"
   ]
  },
  {
   "attachments": {},
   "cell_type": "markdown",
   "metadata": {},
   "source": [
    "## Computing the metrics for each job file\n",
    "\n",
    "Max, mean, median, std, interquartile range (iqr), inter 10-90 percentile range"
   ]
  },
  {
   "cell_type": "code",
   "execution_count": 3,
   "metadata": {},
   "outputs": [],
   "source": [
    "lst_result = []\n",
    "current_month = 0"
   ]
  },
  {
   "cell_type": "code",
   "execution_count": null,
   "metadata": {},
   "outputs": [],
   "source": [
    "from scipy.stats import iqr\n",
    "import numpy as np\n",
    "\n",
    "#lst_result = []\n",
    "\n",
    "jobfile_start = 1\n",
    "jobfile_end = 2\n",
    "\n",
    "for jobfile in jobfiles_list[jobfile_start:jobfile_end]:\n",
    "    df_jobs = pd.read_csv(jobfile).reset_index(drop=True)\n",
    "    month = pd.to_datetime(df_jobs[\"submit_time\"])[0].month\n",
    "    if month != current_month:\n",
    "        powerfiles_list = glob.glob(DATASET_PATH+\"year_month=22-0\"+str(month)+\"/plugin=ipmi_pub\"+\"/metric=total_power\"+\"/a_0_filter123*\")\n",
    "        df_power = pd.concat([pd.read_csv(powerfile) for powerfile in powerfiles_list]).reset_index(drop=True)\n",
    "        df_power['node'] = pd.to_numeric(df_power['node'])\n",
    "        df_power['value'] = pd.to_numeric(df_power['value'])\n",
    "        #print(df_power)\n",
    "    powertrace_jobs = [df_power[df_power[\"job_id\"]==x]['value'].values for x in df_jobs['job_id'].values]\n",
    "    df_jobs[\"total_power_max_watts\"] = [x.max() for x in powertrace_jobs]\n",
    "    df_jobs[\"total_power_mean_watts\"] = [x.mean() for x in powertrace_jobs]\n",
    "    df_jobs[\"total_power_median_watts\"] = [np.median(x) for x in powertrace_jobs]\n",
    "    df_jobs[\"total_power_std_watts\"] = [x.std() for x in powertrace_jobs]\n",
    "    df_jobs[\"total_power_iqr_watts\"] = [iqr(x, rng=(25, 75)) for x in powertrace_jobs]\n",
    "    df_jobs[\"total_power_1090range_watts\"] = [iqr(x, rng=(10, 90)) for x in powertrace_jobs]\n",
    "\n",
    "    lst_result.append(df_jobs)\n",
    "    current_month = month\n",
    "    #break\n",
    "#df_result = pd.concat(lst_result).reset_index(drop=True)\n",
    "#df_result"
   ]
  },
  {
   "cell_type": "code",
   "execution_count": 25,
   "metadata": {},
   "outputs": [],
   "source": [
    "#df_jobs.to_csv(DATASET_PATH+\"Marconi100_all_jobs.csv.tar.gz\")"
   ]
  },
  {
   "attachments": {},
   "cell_type": "markdown",
   "metadata": {},
   "source": [
    "## Reading all energy files"
   ]
  },
  {
   "cell_type": "code",
   "execution_count": null,
   "metadata": {},
   "outputs": [],
   "source": [
    "import glob\n",
    "import pandas as pd\n",
    "\n",
    "DATASET_PATH = \"/home/dancarastan/Documentos/exadata_job_energy_profiles/\"\n",
    "\n",
    "powerfiles_list = glob.glob(DATASET_PATH+\"*\"+\"/plugin=ipmi_pub\"+\"/metric=total_power\"+\"/a_0_filter123*\")\n",
    "\n",
    "df_power = pd.concat([pd.read_csv(powerfile) for powerfile in powerfiles_list]).reset_index(drop=True)"
   ]
  }
 ],
 "metadata": {
  "kernelspec": {
   "display_name": "base",
   "language": "python",
   "name": "python3"
  },
  "language_info": {
   "codemirror_mode": {
    "name": "ipython",
    "version": 3
   },
   "file_extension": ".py",
   "mimetype": "text/x-python",
   "name": "python",
   "nbconvert_exporter": "python",
   "pygments_lexer": "ipython3",
   "version": "3.9.12"
  },
  "orig_nbformat": 4
 },
 "nbformat": 4,
 "nbformat_minor": 2
}
