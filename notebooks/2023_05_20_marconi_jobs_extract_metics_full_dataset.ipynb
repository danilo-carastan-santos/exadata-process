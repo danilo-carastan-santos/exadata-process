{
 "cells": [
  {
   "attachments": {},
   "cell_type": "markdown",
   "metadata": {},
   "source": [
    "# Computing aggregation metrics for the jobs\n",
    "\n",
    "Here i'm using the full processed Marconi100 dataset"
   ]
  },
  {
   "attachments": {},
   "cell_type": "markdown",
   "metadata": {},
   "source": [
    "## Reading all job files"
   ]
  },
  {
   "cell_type": "code",
   "execution_count": 2,
   "metadata": {},
   "outputs": [
    {
     "name": "stdout",
     "output_type": "stream",
     "text": [
      "18\n"
     ]
    }
   ],
   "source": [
    "import glob\n",
    "import pandas as pd\n",
    "\n",
    "DATASET_PATH = \"/home/dancarastan/Documentos/exadata_job_energy_profiles/\"\n",
    "\n",
    "jobfiles_list = glob.glob(DATASET_PATH+\"*\"+\"/plugin=job_table\"+\"/metric=job_info_marconi100\"+\"/a_0_filter123*\")\n",
    "\n",
    "print(len(jobfiles_list))\n",
    "#df_jobs = pd.concat([pd.read_csv(jobfile) for jobfile in jobfiles_list]).reset_index(drop=True)\n"
   ]
  },
  {
   "attachments": {},
   "cell_type": "markdown",
   "metadata": {},
   "source": [
    "## Computing the metrics for each job file\n",
    "\n",
    "Max, mean, median, std, interquartile range (iqr), inter 10-90 percentile range"
   ]
  },
  {
   "cell_type": "code",
   "execution_count": 3,
   "metadata": {},
   "outputs": [],
   "source": [
    "lst_result = []\n",
    "current_month = 0"
   ]
  },
  {
   "cell_type": "code",
   "execution_count": 5,
   "metadata": {},
   "outputs": [
    {
     "name": "stderr",
     "output_type": "stream",
     "text": [
      "/tmp/ipykernel_16035/757584804.py:10: DtypeWarning: Columns (62) have mixed types. Specify dtype option on import or set low_memory=False.\n",
      "  df_jobs = pd.read_csv(jobfile).reset_index(drop=True)\n"
     ]
    },
    {
     "ename": "KeyboardInterrupt",
     "evalue": "",
     "output_type": "error",
     "traceback": [
      "\u001b[0;31m---------------------------------------------------------------------------\u001b[0m",
      "\u001b[0;31mKeyboardInterrupt\u001b[0m                         Traceback (most recent call last)",
      "\u001b[1;32m/home/dancarastan/Dropbox/notebook/posdoc-grenoble/energy-analysis-retake/notebooks/2023_05_20_marconi_jobs_extract_metics_full_dataset.ipynb Cell 6\u001b[0m in \u001b[0;36m<cell line: 9>\u001b[0;34m()\u001b[0m\n\u001b[1;32m     <a href='vscode-notebook-cell:/home/dancarastan/Dropbox/notebook/posdoc-grenoble/energy-analysis-retake/notebooks/2023_05_20_marconi_jobs_extract_metics_full_dataset.ipynb#W4sZmlsZQ%3D%3D?line=15'>16</a>\u001b[0m     df_power[\u001b[39m'\u001b[39m\u001b[39mvalue\u001b[39m\u001b[39m'\u001b[39m] \u001b[39m=\u001b[39m pd\u001b[39m.\u001b[39mto_numeric(df_power[\u001b[39m'\u001b[39m\u001b[39mvalue\u001b[39m\u001b[39m'\u001b[39m])\n\u001b[1;32m     <a href='vscode-notebook-cell:/home/dancarastan/Dropbox/notebook/posdoc-grenoble/energy-analysis-retake/notebooks/2023_05_20_marconi_jobs_extract_metics_full_dataset.ipynb#W4sZmlsZQ%3D%3D?line=16'>17</a>\u001b[0m     \u001b[39m#print(df_power)\u001b[39;00m\n\u001b[0;32m---> <a href='vscode-notebook-cell:/home/dancarastan/Dropbox/notebook/posdoc-grenoble/energy-analysis-retake/notebooks/2023_05_20_marconi_jobs_extract_metics_full_dataset.ipynb#W4sZmlsZQ%3D%3D?line=17'>18</a>\u001b[0m powertrace_jobs \u001b[39m=\u001b[39m [df_power[df_power[\u001b[39m\"\u001b[39m\u001b[39mjob_id\u001b[39m\u001b[39m\"\u001b[39m]\u001b[39m==\u001b[39mx][\u001b[39m'\u001b[39m\u001b[39mvalue\u001b[39m\u001b[39m'\u001b[39m]\u001b[39m.\u001b[39mvalues \u001b[39mfor\u001b[39;00m x \u001b[39min\u001b[39;00m df_jobs[\u001b[39m'\u001b[39m\u001b[39mjob_id\u001b[39m\u001b[39m'\u001b[39m]\u001b[39m.\u001b[39mvalues]\n\u001b[1;32m     <a href='vscode-notebook-cell:/home/dancarastan/Dropbox/notebook/posdoc-grenoble/energy-analysis-retake/notebooks/2023_05_20_marconi_jobs_extract_metics_full_dataset.ipynb#W4sZmlsZQ%3D%3D?line=18'>19</a>\u001b[0m df_jobs[\u001b[39m\"\u001b[39m\u001b[39mtotal_power_max_watts\u001b[39m\u001b[39m\"\u001b[39m] \u001b[39m=\u001b[39m [x\u001b[39m.\u001b[39mmax() \u001b[39mfor\u001b[39;00m x \u001b[39min\u001b[39;00m powertrace_jobs]\n\u001b[1;32m     <a href='vscode-notebook-cell:/home/dancarastan/Dropbox/notebook/posdoc-grenoble/energy-analysis-retake/notebooks/2023_05_20_marconi_jobs_extract_metics_full_dataset.ipynb#W4sZmlsZQ%3D%3D?line=19'>20</a>\u001b[0m df_jobs[\u001b[39m\"\u001b[39m\u001b[39mtotal_power_mean_watts\u001b[39m\u001b[39m\"\u001b[39m] \u001b[39m=\u001b[39m [x\u001b[39m.\u001b[39mmean() \u001b[39mfor\u001b[39;00m x \u001b[39min\u001b[39;00m powertrace_jobs]\n",
      "\u001b[1;32m/home/dancarastan/Dropbox/notebook/posdoc-grenoble/energy-analysis-retake/notebooks/2023_05_20_marconi_jobs_extract_metics_full_dataset.ipynb Cell 6\u001b[0m in \u001b[0;36m<listcomp>\u001b[0;34m(.0)\u001b[0m\n\u001b[1;32m     <a href='vscode-notebook-cell:/home/dancarastan/Dropbox/notebook/posdoc-grenoble/energy-analysis-retake/notebooks/2023_05_20_marconi_jobs_extract_metics_full_dataset.ipynb#W4sZmlsZQ%3D%3D?line=15'>16</a>\u001b[0m     df_power[\u001b[39m'\u001b[39m\u001b[39mvalue\u001b[39m\u001b[39m'\u001b[39m] \u001b[39m=\u001b[39m pd\u001b[39m.\u001b[39mto_numeric(df_power[\u001b[39m'\u001b[39m\u001b[39mvalue\u001b[39m\u001b[39m'\u001b[39m])\n\u001b[1;32m     <a href='vscode-notebook-cell:/home/dancarastan/Dropbox/notebook/posdoc-grenoble/energy-analysis-retake/notebooks/2023_05_20_marconi_jobs_extract_metics_full_dataset.ipynb#W4sZmlsZQ%3D%3D?line=16'>17</a>\u001b[0m     \u001b[39m#print(df_power)\u001b[39;00m\n\u001b[0;32m---> <a href='vscode-notebook-cell:/home/dancarastan/Dropbox/notebook/posdoc-grenoble/energy-analysis-retake/notebooks/2023_05_20_marconi_jobs_extract_metics_full_dataset.ipynb#W4sZmlsZQ%3D%3D?line=17'>18</a>\u001b[0m powertrace_jobs \u001b[39m=\u001b[39m [df_power[df_power[\u001b[39m\"\u001b[39;49m\u001b[39mjob_id\u001b[39;49m\u001b[39m\"\u001b[39;49m]\u001b[39m==\u001b[39;49mx][\u001b[39m'\u001b[39m\u001b[39mvalue\u001b[39m\u001b[39m'\u001b[39m]\u001b[39m.\u001b[39mvalues \u001b[39mfor\u001b[39;00m x \u001b[39min\u001b[39;00m df_jobs[\u001b[39m'\u001b[39m\u001b[39mjob_id\u001b[39m\u001b[39m'\u001b[39m]\u001b[39m.\u001b[39mvalues]\n\u001b[1;32m     <a href='vscode-notebook-cell:/home/dancarastan/Dropbox/notebook/posdoc-grenoble/energy-analysis-retake/notebooks/2023_05_20_marconi_jobs_extract_metics_full_dataset.ipynb#W4sZmlsZQ%3D%3D?line=18'>19</a>\u001b[0m df_jobs[\u001b[39m\"\u001b[39m\u001b[39mtotal_power_max_watts\u001b[39m\u001b[39m\"\u001b[39m] \u001b[39m=\u001b[39m [x\u001b[39m.\u001b[39mmax() \u001b[39mfor\u001b[39;00m x \u001b[39min\u001b[39;00m powertrace_jobs]\n\u001b[1;32m     <a href='vscode-notebook-cell:/home/dancarastan/Dropbox/notebook/posdoc-grenoble/energy-analysis-retake/notebooks/2023_05_20_marconi_jobs_extract_metics_full_dataset.ipynb#W4sZmlsZQ%3D%3D?line=19'>20</a>\u001b[0m df_jobs[\u001b[39m\"\u001b[39m\u001b[39mtotal_power_mean_watts\u001b[39m\u001b[39m\"\u001b[39m] \u001b[39m=\u001b[39m [x\u001b[39m.\u001b[39mmean() \u001b[39mfor\u001b[39;00m x \u001b[39min\u001b[39;00m powertrace_jobs]\n",
      "File \u001b[0;32m~/anaconda3/lib/python3.9/site-packages/pandas/core/frame.py:3752\u001b[0m, in \u001b[0;36mDataFrame.__getitem__\u001b[0;34m(self, key)\u001b[0m\n\u001b[1;32m   3750\u001b[0m \u001b[39m# Do we have a (boolean) 1d indexer?\u001b[39;00m\n\u001b[1;32m   3751\u001b[0m \u001b[39mif\u001b[39;00m com\u001b[39m.\u001b[39mis_bool_indexer(key):\n\u001b[0;32m-> 3752\u001b[0m     \u001b[39mreturn\u001b[39;00m \u001b[39mself\u001b[39;49m\u001b[39m.\u001b[39;49m_getitem_bool_array(key)\n\u001b[1;32m   3754\u001b[0m \u001b[39m# We are left with two options: a single key, and a collection of keys,\u001b[39;00m\n\u001b[1;32m   3755\u001b[0m \u001b[39m# We interpret tuples as collections only for non-MultiIndex\u001b[39;00m\n\u001b[1;32m   3756\u001b[0m is_single_key \u001b[39m=\u001b[39m \u001b[39misinstance\u001b[39m(key, \u001b[39mtuple\u001b[39m) \u001b[39mor\u001b[39;00m \u001b[39mnot\u001b[39;00m is_list_like(key)\n",
      "File \u001b[0;32m~/anaconda3/lib/python3.9/site-packages/pandas/core/frame.py:3807\u001b[0m, in \u001b[0;36mDataFrame._getitem_bool_array\u001b[0;34m(self, key)\u001b[0m\n\u001b[1;32m   3803\u001b[0m \u001b[39m# check_bool_indexer will throw exception if Series key cannot\u001b[39;00m\n\u001b[1;32m   3804\u001b[0m \u001b[39m# be reindexed to match DataFrame rows\u001b[39;00m\n\u001b[1;32m   3805\u001b[0m key \u001b[39m=\u001b[39m check_bool_indexer(\u001b[39mself\u001b[39m\u001b[39m.\u001b[39mindex, key)\n\u001b[0;32m-> 3807\u001b[0m \u001b[39mif\u001b[39;00m key\u001b[39m.\u001b[39;49mall():\n\u001b[1;32m   3808\u001b[0m     \u001b[39mreturn\u001b[39;00m \u001b[39mself\u001b[39m\u001b[39m.\u001b[39mcopy(deep\u001b[39m=\u001b[39m\u001b[39mNone\u001b[39;00m)\n\u001b[1;32m   3810\u001b[0m indexer \u001b[39m=\u001b[39m key\u001b[39m.\u001b[39mnonzero()[\u001b[39m0\u001b[39m]\n",
      "File \u001b[0;32m~/anaconda3/lib/python3.9/site-packages/numpy/core/_methods.py:63\u001b[0m, in \u001b[0;36m_all\u001b[0;34m(a, axis, dtype, out, keepdims, where)\u001b[0m\n\u001b[1;32m     60\u001b[0m \u001b[39mdef\u001b[39;00m \u001b[39m_all\u001b[39m(a, axis\u001b[39m=\u001b[39m\u001b[39mNone\u001b[39;00m, dtype\u001b[39m=\u001b[39m\u001b[39mNone\u001b[39;00m, out\u001b[39m=\u001b[39m\u001b[39mNone\u001b[39;00m, keepdims\u001b[39m=\u001b[39m\u001b[39mFalse\u001b[39;00m, \u001b[39m*\u001b[39m, where\u001b[39m=\u001b[39m\u001b[39mTrue\u001b[39;00m):\n\u001b[1;32m     61\u001b[0m     \u001b[39m# Parsing keyword arguments is currently fairly slow, so avoid it for now\u001b[39;00m\n\u001b[1;32m     62\u001b[0m     \u001b[39mif\u001b[39;00m where \u001b[39mis\u001b[39;00m \u001b[39mTrue\u001b[39;00m:\n\u001b[0;32m---> 63\u001b[0m         \u001b[39mreturn\u001b[39;00m umr_all(a, axis, dtype, out, keepdims)\n\u001b[1;32m     64\u001b[0m     \u001b[39mreturn\u001b[39;00m umr_all(a, axis, dtype, out, keepdims, where\u001b[39m=\u001b[39mwhere)\n",
      "\u001b[0;31mKeyboardInterrupt\u001b[0m: "
     ]
    }
   ],
   "source": [
    "from scipy.stats import iqr\n",
    "import numpy as np\n",
    "\n",
    "#lst_result = []\n",
    "\n",
    "jobfile_start = 1\n",
    "jobfile_end = 2\n",
    "\n",
    "for jobfile in jobfiles_list[jobfile_start:jobfile_end]:\n",
    "    df_jobs = pd.read_csv(jobfile).reset_index(drop=True)\n",
    "    month = pd.to_datetime(df_jobs[\"submit_time\"])[0].month\n",
    "    if month != current_month:\n",
    "        powerfiles_list = glob.glob(DATASET_PATH+\"year_month=22-0\"+str(month)+\"/plugin=ipmi_pub\"+\"/metric=total_power\"+\"/a_0_filter123*\")\n",
    "        df_power = pd.concat([pd.read_csv(powerfile) for powerfile in powerfiles_list]).reset_index(drop=True)\n",
    "        df_power['node'] = pd.to_numeric(df_power['node'])\n",
    "        df_power['value'] = pd.to_numeric(df_power['value'])\n",
    "        #print(df_power)\n",
    "    powertrace_jobs = [df_power[df_power[\"job_id\"]==x]['value'].values for x in df_jobs['job_id'].values]\n",
    "    df_jobs[\"total_power_max_watts\"] = [x.max() for x in powertrace_jobs]\n",
    "    df_jobs[\"total_power_mean_watts\"] = [x.mean() for x in powertrace_jobs]\n",
    "    df_jobs[\"total_power_median_watts\"] = [np.median(x) for x in powertrace_jobs]\n",
    "    df_jobs[\"total_power_std_watts\"] = [x.std() for x in powertrace_jobs]\n",
    "    df_jobs[\"total_power_iqr_watts\"] = [iqr(x, rng=(25, 75)) for x in powertrace_jobs]\n",
    "    df_jobs[\"total_power_1090range_watts\"] = [iqr(x, rng=(10, 90)) for x in powertrace_jobs]\n",
    "\n",
    "    lst_result.append(df_jobs)\n",
    "    current_month = month\n",
    "    #break\n",
    "#df_result = pd.concat(lst_result).reset_index(drop=True)\n",
    "#df_result"
   ]
  },
  {
   "cell_type": "code",
   "execution_count": 25,
   "metadata": {},
   "outputs": [],
   "source": [
    "#df_jobs.to_csv(DATASET_PATH+\"Marconi100_all_jobs.csv.tar.gz\")"
   ]
  },
  {
   "attachments": {},
   "cell_type": "markdown",
   "metadata": {},
   "source": [
    "## Reading all energy files"
   ]
  },
  {
   "cell_type": "code",
   "execution_count": 1,
   "metadata": {},
   "outputs": [
    {
     "ename": "KeyboardInterrupt",
     "evalue": "",
     "output_type": "error",
     "traceback": [
      "\u001b[0;31m---------------------------------------------------------------------------\u001b[0m",
      "\u001b[0;31mKeyboardInterrupt\u001b[0m                         Traceback (most recent call last)",
      "\u001b[1;32m/home/dancarastan/Dropbox/notebook/posdoc-grenoble/energy-analysis-retake/notebooks/2023_05_20_marconi_jobs_extract_metics_full_dataset.ipynb Cell 6\u001b[0m in \u001b[0;36m<cell line: 8>\u001b[0;34m()\u001b[0m\n\u001b[1;32m      <a href='vscode-notebook-cell:/home/dancarastan/Dropbox/notebook/posdoc-grenoble/energy-analysis-retake/notebooks/2023_05_20_marconi_jobs_extract_metics_full_dataset.ipynb#W5sZmlsZQ%3D%3D?line=3'>4</a>\u001b[0m DATASET_PATH \u001b[39m=\u001b[39m \u001b[39m\"\u001b[39m\u001b[39m/home/dancarastan/Documentos/exadata_job_energy_profiles/\u001b[39m\u001b[39m\"\u001b[39m\n\u001b[1;32m      <a href='vscode-notebook-cell:/home/dancarastan/Dropbox/notebook/posdoc-grenoble/energy-analysis-retake/notebooks/2023_05_20_marconi_jobs_extract_metics_full_dataset.ipynb#W5sZmlsZQ%3D%3D?line=5'>6</a>\u001b[0m powerfiles_list \u001b[39m=\u001b[39m glob\u001b[39m.\u001b[39mglob(DATASET_PATH\u001b[39m+\u001b[39m\u001b[39m\"\u001b[39m\u001b[39m*\u001b[39m\u001b[39m\"\u001b[39m\u001b[39m+\u001b[39m\u001b[39m\"\u001b[39m\u001b[39m/plugin=ipmi_pub\u001b[39m\u001b[39m\"\u001b[39m\u001b[39m+\u001b[39m\u001b[39m\"\u001b[39m\u001b[39m/metric=total_power\u001b[39m\u001b[39m\"\u001b[39m\u001b[39m+\u001b[39m\u001b[39m\"\u001b[39m\u001b[39m/a_0_filter123*\u001b[39m\u001b[39m\"\u001b[39m)\n\u001b[0;32m----> <a href='vscode-notebook-cell:/home/dancarastan/Dropbox/notebook/posdoc-grenoble/energy-analysis-retake/notebooks/2023_05_20_marconi_jobs_extract_metics_full_dataset.ipynb#W5sZmlsZQ%3D%3D?line=7'>8</a>\u001b[0m df_power \u001b[39m=\u001b[39m pd\u001b[39m.\u001b[39mconcat([pd\u001b[39m.\u001b[39mread_csv(powerfile) \u001b[39mfor\u001b[39;00m powerfile \u001b[39min\u001b[39;00m powerfiles_list])\u001b[39m.\u001b[39mreset_index(drop\u001b[39m=\u001b[39m\u001b[39mTrue\u001b[39;00m)\n",
      "\u001b[1;32m/home/dancarastan/Dropbox/notebook/posdoc-grenoble/energy-analysis-retake/notebooks/2023_05_20_marconi_jobs_extract_metics_full_dataset.ipynb Cell 6\u001b[0m in \u001b[0;36m<listcomp>\u001b[0;34m(.0)\u001b[0m\n\u001b[1;32m      <a href='vscode-notebook-cell:/home/dancarastan/Dropbox/notebook/posdoc-grenoble/energy-analysis-retake/notebooks/2023_05_20_marconi_jobs_extract_metics_full_dataset.ipynb#W5sZmlsZQ%3D%3D?line=3'>4</a>\u001b[0m DATASET_PATH \u001b[39m=\u001b[39m \u001b[39m\"\u001b[39m\u001b[39m/home/dancarastan/Documentos/exadata_job_energy_profiles/\u001b[39m\u001b[39m\"\u001b[39m\n\u001b[1;32m      <a href='vscode-notebook-cell:/home/dancarastan/Dropbox/notebook/posdoc-grenoble/energy-analysis-retake/notebooks/2023_05_20_marconi_jobs_extract_metics_full_dataset.ipynb#W5sZmlsZQ%3D%3D?line=5'>6</a>\u001b[0m powerfiles_list \u001b[39m=\u001b[39m glob\u001b[39m.\u001b[39mglob(DATASET_PATH\u001b[39m+\u001b[39m\u001b[39m\"\u001b[39m\u001b[39m*\u001b[39m\u001b[39m\"\u001b[39m\u001b[39m+\u001b[39m\u001b[39m\"\u001b[39m\u001b[39m/plugin=ipmi_pub\u001b[39m\u001b[39m\"\u001b[39m\u001b[39m+\u001b[39m\u001b[39m\"\u001b[39m\u001b[39m/metric=total_power\u001b[39m\u001b[39m\"\u001b[39m\u001b[39m+\u001b[39m\u001b[39m\"\u001b[39m\u001b[39m/a_0_filter123*\u001b[39m\u001b[39m\"\u001b[39m)\n\u001b[0;32m----> <a href='vscode-notebook-cell:/home/dancarastan/Dropbox/notebook/posdoc-grenoble/energy-analysis-retake/notebooks/2023_05_20_marconi_jobs_extract_metics_full_dataset.ipynb#W5sZmlsZQ%3D%3D?line=7'>8</a>\u001b[0m df_power \u001b[39m=\u001b[39m pd\u001b[39m.\u001b[39mconcat([pd\u001b[39m.\u001b[39;49mread_csv(powerfile) \u001b[39mfor\u001b[39;00m powerfile \u001b[39min\u001b[39;00m powerfiles_list])\u001b[39m.\u001b[39mreset_index(drop\u001b[39m=\u001b[39m\u001b[39mTrue\u001b[39;00m)\n",
      "File \u001b[0;32m~/anaconda3/lib/python3.9/site-packages/pandas/io/parsers/readers.py:912\u001b[0m, in \u001b[0;36mread_csv\u001b[0;34m(filepath_or_buffer, sep, delimiter, header, names, index_col, usecols, dtype, engine, converters, true_values, false_values, skipinitialspace, skiprows, skipfooter, nrows, na_values, keep_default_na, na_filter, verbose, skip_blank_lines, parse_dates, infer_datetime_format, keep_date_col, date_parser, date_format, dayfirst, cache_dates, iterator, chunksize, compression, thousands, decimal, lineterminator, quotechar, quoting, doublequote, escapechar, comment, encoding, encoding_errors, dialect, on_bad_lines, delim_whitespace, low_memory, memory_map, float_precision, storage_options, dtype_backend)\u001b[0m\n\u001b[1;32m    899\u001b[0m kwds_defaults \u001b[39m=\u001b[39m _refine_defaults_read(\n\u001b[1;32m    900\u001b[0m     dialect,\n\u001b[1;32m    901\u001b[0m     delimiter,\n\u001b[0;32m   (...)\u001b[0m\n\u001b[1;32m    908\u001b[0m     dtype_backend\u001b[39m=\u001b[39mdtype_backend,\n\u001b[1;32m    909\u001b[0m )\n\u001b[1;32m    910\u001b[0m kwds\u001b[39m.\u001b[39mupdate(kwds_defaults)\n\u001b[0;32m--> 912\u001b[0m \u001b[39mreturn\u001b[39;00m _read(filepath_or_buffer, kwds)\n",
      "File \u001b[0;32m~/anaconda3/lib/python3.9/site-packages/pandas/io/parsers/readers.py:583\u001b[0m, in \u001b[0;36m_read\u001b[0;34m(filepath_or_buffer, kwds)\u001b[0m\n\u001b[1;32m    580\u001b[0m     \u001b[39mreturn\u001b[39;00m parser\n\u001b[1;32m    582\u001b[0m \u001b[39mwith\u001b[39;00m parser:\n\u001b[0;32m--> 583\u001b[0m     \u001b[39mreturn\u001b[39;00m parser\u001b[39m.\u001b[39;49mread(nrows)\n",
      "File \u001b[0;32m~/anaconda3/lib/python3.9/site-packages/pandas/io/parsers/readers.py:1704\u001b[0m, in \u001b[0;36mTextFileReader.read\u001b[0;34m(self, nrows)\u001b[0m\n\u001b[1;32m   1697\u001b[0m nrows \u001b[39m=\u001b[39m validate_integer(\u001b[39m\"\u001b[39m\u001b[39mnrows\u001b[39m\u001b[39m\"\u001b[39m, nrows)\n\u001b[1;32m   1698\u001b[0m \u001b[39mtry\u001b[39;00m:\n\u001b[1;32m   1699\u001b[0m     \u001b[39m# error: \"ParserBase\" has no attribute \"read\"\u001b[39;00m\n\u001b[1;32m   1700\u001b[0m     (\n\u001b[1;32m   1701\u001b[0m         index,\n\u001b[1;32m   1702\u001b[0m         columns,\n\u001b[1;32m   1703\u001b[0m         col_dict,\n\u001b[0;32m-> 1704\u001b[0m     ) \u001b[39m=\u001b[39m \u001b[39mself\u001b[39;49m\u001b[39m.\u001b[39;49m_engine\u001b[39m.\u001b[39;49mread(  \u001b[39m# type: ignore[attr-defined]\u001b[39;49;00m\n\u001b[1;32m   1705\u001b[0m         nrows\n\u001b[1;32m   1706\u001b[0m     )\n\u001b[1;32m   1707\u001b[0m \u001b[39mexcept\u001b[39;00m \u001b[39mException\u001b[39;00m:\n\u001b[1;32m   1708\u001b[0m     \u001b[39mself\u001b[39m\u001b[39m.\u001b[39mclose()\n",
      "File \u001b[0;32m~/anaconda3/lib/python3.9/site-packages/pandas/io/parsers/c_parser_wrapper.py:234\u001b[0m, in \u001b[0;36mCParserWrapper.read\u001b[0;34m(self, nrows)\u001b[0m\n\u001b[1;32m    232\u001b[0m \u001b[39mtry\u001b[39;00m:\n\u001b[1;32m    233\u001b[0m     \u001b[39mif\u001b[39;00m \u001b[39mself\u001b[39m\u001b[39m.\u001b[39mlow_memory:\n\u001b[0;32m--> 234\u001b[0m         chunks \u001b[39m=\u001b[39m \u001b[39mself\u001b[39;49m\u001b[39m.\u001b[39;49m_reader\u001b[39m.\u001b[39;49mread_low_memory(nrows)\n\u001b[1;32m    235\u001b[0m         \u001b[39m# destructive to chunks\u001b[39;00m\n\u001b[1;32m    236\u001b[0m         data \u001b[39m=\u001b[39m _concatenate_chunks(chunks)\n",
      "File \u001b[0;32m~/anaconda3/lib/python3.9/site-packages/pandas/_libs/parsers.pyx:812\u001b[0m, in \u001b[0;36mpandas._libs.parsers.TextReader.read_low_memory\u001b[0;34m()\u001b[0m\n",
      "File \u001b[0;32m~/anaconda3/lib/python3.9/site-packages/pandas/_libs/parsers.pyx:889\u001b[0m, in \u001b[0;36mpandas._libs.parsers.TextReader._read_rows\u001b[0;34m()\u001b[0m\n",
      "File \u001b[0;32m~/anaconda3/lib/python3.9/site-packages/pandas/_libs/parsers.pyx:1034\u001b[0m, in \u001b[0;36mpandas._libs.parsers.TextReader._convert_column_data\u001b[0;34m()\u001b[0m\n",
      "File \u001b[0;32m~/anaconda3/lib/python3.9/site-packages/pandas/_libs/parsers.pyx:1088\u001b[0m, in \u001b[0;36mpandas._libs.parsers.TextReader._convert_tokens\u001b[0;34m()\u001b[0m\n",
      "File \u001b[0;32m~/anaconda3/lib/python3.9/site-packages/pandas/_libs/parsers.pyx:1163\u001b[0m, in \u001b[0;36mpandas._libs.parsers.TextReader._convert_with_dtype\u001b[0;34m()\u001b[0m\n",
      "File \u001b[0;32m~/anaconda3/lib/python3.9/site-packages/pandas/core/dtypes/common.py:1335\u001b[0m, in \u001b[0;36mis_extension_array_dtype\u001b[0;34m(arr_or_dtype)\u001b[0m\n\u001b[1;32m   1326\u001b[0m     \u001b[39m# Note: if other EA dtypes are ever held in HybridBlock, exclude those\u001b[39;00m\n\u001b[1;32m   1327\u001b[0m     \u001b[39m#  here too.\u001b[39;00m\n\u001b[1;32m   1328\u001b[0m     \u001b[39m# NB: need to check DatetimeTZDtype and not is_datetime64tz_dtype\u001b[39;00m\n\u001b[1;32m   1329\u001b[0m     \u001b[39m#  to exclude ArrowTimestampUSDtype\u001b[39;00m\n\u001b[1;32m   1330\u001b[0m     \u001b[39mreturn\u001b[39;00m \u001b[39misinstance\u001b[39m(dtype, ExtensionDtype) \u001b[39mand\u001b[39;00m \u001b[39mnot\u001b[39;00m \u001b[39misinstance\u001b[39m(\n\u001b[1;32m   1331\u001b[0m         dtype, (DatetimeTZDtype, PeriodDtype)\n\u001b[1;32m   1332\u001b[0m     )\n\u001b[0;32m-> 1335\u001b[0m \u001b[39mdef\u001b[39;00m \u001b[39mis_extension_array_dtype\u001b[39m(arr_or_dtype) \u001b[39m-\u001b[39m\u001b[39m>\u001b[39m \u001b[39mbool\u001b[39m:\n\u001b[1;32m   1336\u001b[0m     \u001b[39m\"\"\"\u001b[39;00m\n\u001b[1;32m   1337\u001b[0m \u001b[39m    Check if an object is a pandas extension array type.\u001b[39;00m\n\u001b[1;32m   1338\u001b[0m \n\u001b[0;32m   (...)\u001b[0m\n\u001b[1;32m   1378\u001b[0m \u001b[39m    False\u001b[39;00m\n\u001b[1;32m   1379\u001b[0m \u001b[39m    \"\"\"\u001b[39;00m\n\u001b[1;32m   1380\u001b[0m     dtype \u001b[39m=\u001b[39m \u001b[39mgetattr\u001b[39m(arr_or_dtype, \u001b[39m\"\u001b[39m\u001b[39mdtype\u001b[39m\u001b[39m\"\u001b[39m, arr_or_dtype)\n",
      "\u001b[0;31mKeyboardInterrupt\u001b[0m: "
     ]
    }
   ],
   "source": [
    "import glob\n",
    "import pandas as pd\n",
    "\n",
    "DATASET_PATH = \"/home/dancarastan/Documentos/exadata_job_energy_profiles/\"\n",
    "\n",
    "powerfiles_list = glob.glob(DATASET_PATH+\"*\"+\"/plugin=ipmi_pub\"+\"/metric=total_power\"+\"/a_0_filter123*\")\n",
    "\n",
    "df_power = pd.concat([pd.read_csv(powerfile) for powerfile in powerfiles_list]).reset_index(drop=True)"
   ]
  }
 ],
 "metadata": {
  "kernelspec": {
   "display_name": "base",
   "language": "python",
   "name": "python3"
  },
  "language_info": {
   "codemirror_mode": {
    "name": "ipython",
    "version": 3
   },
   "file_extension": ".py",
   "mimetype": "text/x-python",
   "name": "python",
   "nbconvert_exporter": "python",
   "pygments_lexer": "ipython3",
   "version": "3.9.12"
  },
  "orig_nbformat": 4
 },
 "nbformat": 4,
 "nbformat_minor": 2
}
