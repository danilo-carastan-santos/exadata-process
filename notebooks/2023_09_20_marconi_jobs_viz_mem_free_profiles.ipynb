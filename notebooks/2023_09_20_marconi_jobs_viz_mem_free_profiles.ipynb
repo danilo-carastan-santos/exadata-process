{
 "cells": [
  {
   "cell_type": "markdown",
   "metadata": {},
   "source": [
    "# Visualyzing Marconi100's `mem_free` job profiles"
   ]
  },
  {
   "cell_type": "markdown",
   "metadata": {},
   "source": [
    "## Read Data\n",
    "\n",
    "Here i visualize only the single-node jobs `/plugin=job_table/metric=job_info_marconi100/metric=mem_free_filter123_singlenode.csv`. We need to modify the plotting script to vizualize for multiple nodes (same path as but with a `multinode` suffix)\n",
    "\n",
    "IMPORTANT: To make it easier to understand the plots. I'm converting the `mem_free` to its corresponding consumed memory values (i.e., 256GB - `mem_free`). This way is easier to spot measurement errors (i.e., negative values)\n",
    "Some jobs have \"nice\" curves but with negative values"
   ]
  },
  {
   "cell_type": "code",
   "execution_count": 1,
   "metadata": {},
   "outputs": [
    {
     "data": {
      "text/plain": [
       "count    5.338966e+07\n",
       "mean     3.730951e+01\n",
       "std      3.801913e+01\n",
       "min     -5.257635e+01\n",
       "25%      1.047766e+01\n",
       "50%      3.227509e+01\n",
       "75%      6.160571e+01\n",
       "max      2.556728e+02\n",
       "Name: value, dtype: float64"
      ]
     },
     "execution_count": 1,
     "metadata": {},
     "output_type": "execute_result"
    }
   ],
   "source": [
    "import pandas as pd\n",
    "\n",
    "GIGABYTES_ONE_KILOBYTE = 9.5367431640625e-7\n",
    "\n",
    "M100_MAX_MEM_GB = 256 \n",
    "\n",
    "df_jobs_viz = pd.read_csv(\"../example_data/plugin=job_table/metric=job_info_marconi100/metric=mem_free_filter123_singlenode.csv\")\n",
    "\n",
    "df_metric = pd.read_parquet(\"../example_data/plugin=ganglia_pub/metric=mem_free/a_0.parquet\")\n",
    "df_metric['node'] = pd.to_numeric(df_metric['node'])\n",
    "df_metric['value'] = pd.to_numeric(df_metric['value'])\n",
    "\n",
    "#Converting KB to GB\n",
    "df_metric['value'] = df_metric['value'] * GIGABYTES_ONE_KILOBYTE\n",
    "\n",
    "# Comment the line below if you want to visualize the mem_free and not the consumed memory\n",
    "df_metric['value'] = M100_MAX_MEM_GB - df_metric['value']\n",
    "df_metric['value'].describe()"
   ]
  },
  {
   "cell_type": "markdown",
   "metadata": {},
   "source": [
    "## Plotting the `max_memory` profile for each job (interactive)"
   ]
  },
  {
   "cell_type": "code",
   "execution_count": 11,
   "metadata": {},
   "outputs": [
    {
     "data": {
      "application/vnd.jupyter.widget-view+json": {
       "model_id": "2e363fbd2faf4fc998ea5f47b11ce841",
       "version_major": 2,
       "version_minor": 0
      },
      "text/plain": [
       "Button(description='Save to PDF', style=ButtonStyle())"
      ]
     },
     "metadata": {},
     "output_type": "display_data"
    },
    {
     "data": {
      "application/vnd.jupyter.widget-view+json": {
       "model_id": "5d332ec834d24f558dcd820f688bea31",
       "version_major": 2,
       "version_minor": 0
      },
      "text/plain": [
       "Output()"
      ]
     },
     "metadata": {},
     "output_type": "display_data"
    },
    {
     "data": {
      "application/vnd.jupyter.widget-view+json": {
       "model_id": "e04700615cdd4aab9f2254ee0d19281b",
       "version_major": 2,
       "version_minor": 0
      },
      "text/plain": [
       "interactive(children=(IntSlider(value=0, description='index', max=350), Output()), _dom_classes=('widget-inter…"
      ]
     },
     "metadata": {},
     "output_type": "display_data"
    }
   ],
   "source": [
    "from __future__ import print_function\n",
    "from ipywidgets import interact, interactive, fixed, interact_manual\n",
    "import ipywidgets as widgets\n",
    "import seaborn as sns\n",
    "import matplotlib.pyplot as plt\n",
    "import ast\n",
    "\n",
    "#gfig = None\n",
    "\n",
    "def call_workflow(index):\n",
    "    get_job_energy_profile(index)\n",
    "\n",
    "def get_job_energy_profile(index):\n",
    "    global current_job_id, current_hostname\n",
    "    annot_str=''\n",
    "    job=df_jobs_viz.iloc[index,:]\n",
    "    nodes=ast.literal_eval(job['nodes'])\n",
    "    start_time=job[\"start_time\"]\n",
    "    end_time=job[\"end_time\"]\n",
    "\n",
    "    current_job_id=str(job['job_id'])\n",
    "    for node in nodes:\n",
    "        print(node)\n",
    "        df_node = df_metric.loc[df_metric['node'] == node]\n",
    "        df_node_job = df_node.loc[df_node['timestamp'].between(start_time, end_time)]\n",
    "        if len(df_node_job) > 0:\n",
    "            print(df_node_job.describe(), end=\"\\r\")\n",
    "            plot_energy_profile(df_node_job, annot_str)\n",
    "    print(nodes)\n",
    "     \n",
    "    #plot_energy_profile(job_energy_profile, annot_str)    \n",
    "    #current_hostname=energy_host\n",
    "    ##\n",
    "    #describe=job_energy_profile.describe(percentiles=[.10, .25, .5, .75, .90])\n",
    "    #describe['job_id']=job['job_id']\n",
    "    #describe['socket']=socket\n",
    "    #describe['pp0']=describe[right_pp0]\n",
    "    #describe['DRAM']=describe[right_DRAM]\n",
    "    #describe['stat']=describe.index\n",
    "    #describe=describe.reset_index(drop=True)[arr_cols]  \n",
    "    #print(describe)  \n",
    "\n",
    "\n",
    "def plot_energy_profile(profile, annot_str):\n",
    "    TINY_SIZE = 2\n",
    "    SMALL_SIZE = 5\n",
    "    MEDIUM_SIZE = 25\n",
    "    BIGGER_SIZE = 50\n",
    "    FIG_WIDTH = 40\n",
    "    FIG_HEIGHT = 10\n",
    "\n",
    "    global gfig  \n",
    "\n",
    "    plt.rc('font', size=MEDIUM_SIZE)          # controls default text sizes\n",
    "    plt.rc('axes', titlesize=MEDIUM_SIZE)     # fontsize of the axes title\n",
    "    plt.rc('axes', labelsize=MEDIUM_SIZE)     # fontsize of the x and y labels\n",
    "    plt.rc('xtick', labelsize=MEDIUM_SIZE)    # fontsize of the tick labels\n",
    "    plt.rc('ytick', labelsize=MEDIUM_SIZE)    # fontsize of the tick labels\n",
    "    plt.rc('legend', fontsize=MEDIUM_SIZE)    # legend fontsize\n",
    "    plt.rc('figure', titlesize=MEDIUM_SIZE)  # fontsize of the figure title\n",
    "    scatterplot_kwargs={'s': 50, 'palette': 'plasma'}\n",
    "    lineplot_kwargs={'linewidth': 1}\n",
    "\n",
    "    plt.clf()\n",
    "    fig = plt.figure(figsize=(FIG_WIDTH,FIG_HEIGHT))\n",
    "    #ax = sns.boxplot(x='stat', y='value', data=plot_data, showfliers=False, hue='reading',\n",
    "    #             linewidth=TINY_SIZE)\n",
    "\n",
    "    #ax = sns.scatterplot(data=profile, x='timestamp', y='value', **scatterplot_kwargs)\n",
    "    ax = sns.lineplot(data=profile, x='timestamp', y='value', **lineplot_kwargs)\n",
    "\n",
    "    ## SET BORDERS SIZE AND WIDTH\n",
    "    [line.set_linewidth(TINY_SIZE) for line in ax.spines.values()]\n",
    "    [line.set_markersize(TINY_SIZE) for line in ax.yaxis.get_ticklines()]\n",
    "    [line.set_markeredgewidth(TINY_SIZE) for line in ax.yaxis.get_ticklines()]\n",
    "    [line.set_markersize(SMALL_SIZE) for line in ax.xaxis.get_ticklines()]\n",
    "    [line.set_markeredgewidth(TINY_SIZE) for line in ax.xaxis.get_ticklines()]\n",
    "    #ax.text(x=0.1,y=0.5,\n",
    "    #        s=annot_str,\n",
    "    #        fontdict=dict(color='red',size=MEDIUM_SIZE),\n",
    "    #        bbox=dict(facecolor='yellow',alpha=0.5),\n",
    "    #        horizontalalignment='left',\n",
    "    #        verticalalignment='center',\n",
    "    #        transform=ax.transAxes)\n",
    "    ax.set_ylabel('Node used memory (GB)')\n",
    "    ax.set_xlabel('Timestamp')\n",
    "    ax.set_title('Job ID: '+current_job_id)\n",
    "    gfig = fig\n",
    "\n",
    "button = widgets.Button(description=\"Save to PDF\")\n",
    "output = widgets.Output()\n",
    "\n",
    "display(button, output)\n",
    "\n",
    "## TODO: Pass on b the data (job_id, hostname, etc)\n",
    "def on_button_clicked(b):\n",
    "    with output:\n",
    "        #fig=plt.gcf()\n",
    "        #print(gfig)\n",
    "        fig_filename='../figures/marconi100_interact_plot_mem_free_profile_'+current_job_id+'.pdf'\n",
    "        gfig.savefig(fig_filename, format='pdf', dpi=300, bbox_inches='tight')\n",
    "        print('Plot saved as '+fig_filename)\n",
    "\n",
    "button.on_click(on_button_clicked)\n",
    "\n",
    "interact(call_workflow, index=widgets.IntSlider(min=0, max=len(df_jobs_viz)-1, step=1, value=0));"
   ]
  }
 ],
 "metadata": {
  "kernelspec": {
   "display_name": "base",
   "language": "python",
   "name": "python3"
  },
  "language_info": {
   "codemirror_mode": {
    "name": "ipython",
    "version": 3
   },
   "file_extension": ".py",
   "mimetype": "text/x-python",
   "name": "python",
   "nbconvert_exporter": "python",
   "pygments_lexer": "ipython3",
   "version": "3.9.12"
  },
  "orig_nbformat": 4
 },
 "nbformat": 4,
 "nbformat_minor": 2
}
