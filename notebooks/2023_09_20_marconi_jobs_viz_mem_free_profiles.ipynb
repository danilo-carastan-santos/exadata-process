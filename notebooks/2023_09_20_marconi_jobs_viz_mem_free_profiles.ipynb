{
 "cells": [
  {
   "cell_type": "markdown",
   "metadata": {},
   "source": [
    "# Visualyzing Marconi100's `mem_free` job profiles"
   ]
  },
  {
   "cell_type": "markdown",
   "metadata": {},
   "source": [
    "## Read Data\n",
    "\n",
    "Here i visualize only the single-node jobs `/plugin=job_table/metric=job_info_marconi100/metric=mem_free_filter123_singlenode.csv`. We need to modify the plotting script to vizualize for multiple nodes (same path as but with a `multinode` suffix)\n",
    "\n",
    "IMPORTANT: To make it easier to understand the plots. I'm converting the `mem_free` to its corresponding consumed memory values (i.e., 256GB - `mem_free`). This way is easier to spot measurement errors (i.e., negative values)\n",
    "Some jobs have \"nice\" curves but with negative values"
   ]
  },
  {
   "cell_type": "code",
   "execution_count": 1,
   "metadata": {},
   "outputs": [
    {
     "data": {
      "text/plain": [
       "count    5.338966e+07\n",
       "mean     3.730951e+01\n",
       "std      3.801913e+01\n",
       "min     -5.257635e+01\n",
       "25%      1.047766e+01\n",
       "50%      3.227509e+01\n",
       "75%      6.160571e+01\n",
       "max      2.556728e+02\n",
       "Name: value, dtype: float64"
      ]
     },
     "execution_count": 1,
     "metadata": {},
     "output_type": "execute_result"
    }
   ],
   "source": [
    "import pandas as pd\n",
    "\n",
    "GIGABYTES_ONE_KILOBYTE = 9.5367431640625e-7\n",
    "\n",
    "M100_MAX_MEM_GB = 256 \n",
    "\n",
    "df_jobs_viz = pd.read_csv(\"../example_data/plugin=job_table/metric=job_info_marconi100/metric=mem_free_filter123_singlenode.csv\")\n",
    "\n",
    "df_metric = pd.read_parquet(\"../example_data/plugin=ganglia_pub/metric=mem_free/a_0.parquet\")\n",
    "df_metric['node'] = pd.to_numeric(df_metric['node'])\n",
    "df_metric['value'] = pd.to_numeric(df_metric['value'])\n",
    "\n",
    "#Converting KB to GB\n",
    "df_metric['value'] = df_metric['value'] * GIGABYTES_ONE_KILOBYTE\n",
    "\n",
    "# Comment the line below if you want to visualize the mem_free and not the consumed memory\n",
    "df_metric['value'] = M100_MAX_MEM_GB - df_metric['value']\n",
    "df_metric['value'].describe()"
   ]
  },
  {
   "cell_type": "markdown",
   "metadata": {},
   "source": [
    "## Plotting the `max_memory` profile for each job (interactive)"
   ]
  },
  {
   "cell_type": "code",
   "execution_count": 2,
   "metadata": {},
   "outputs": [
    {
     "data": {
      "application/vnd.jupyter.widget-view+json": {
       "model_id": "2b44b0cf852c44dbb1441e4db9d03f52",
       "version_major": 2,
       "version_minor": 0
      },
      "text/plain": [
       "Button(description='Save to PDF', style=ButtonStyle())"
      ]
     },
     "metadata": {},
     "output_type": "display_data"
    },
    {
     "data": {
      "application/vnd.jupyter.widget-view+json": {
       "model_id": "2acde3ccfb5440a9b60dd76644ac6c46",
       "version_major": 2,
       "version_minor": 0
      },
      "text/plain": [
       "Button(description='Save job info to CSV', style=ButtonStyle())"
      ]
     },
     "metadata": {},
     "output_type": "display_data"
    },
    {
     "data": {
      "application/vnd.jupyter.widget-view+json": {
       "model_id": "79406c589bb84bda923921ba47c72e16",
       "version_major": 2,
       "version_minor": 0
      },
      "text/plain": [
       "Button(description='Save mem. profile to CSV', style=ButtonStyle())"
      ]
     },
     "metadata": {},
     "output_type": "display_data"
    },
    {
     "data": {
      "application/vnd.jupyter.widget-view+json": {
       "model_id": "be9e4ec2b7f34e4f8d734597981552ac",
       "version_major": 2,
       "version_minor": 0
      },
      "text/plain": [
       "Output()"
      ]
     },
     "metadata": {},
     "output_type": "display_data"
    },
    {
     "data": {
      "application/vnd.jupyter.widget-view+json": {
       "model_id": "910fd286244246f1b3afac1f9365c789",
       "version_major": 2,
       "version_minor": 0
      },
      "text/plain": [
       "interactive(children=(IntSlider(value=0, description='index', max=350), Output()), _dom_classes=('widget-inter…"
      ]
     },
     "metadata": {},
     "output_type": "display_data"
    }
   ],
   "source": [
    "from __future__ import print_function\n",
    "from ipywidgets import interact, interactive, fixed, interact_manual\n",
    "import ipywidgets as widgets\n",
    "import seaborn as sns\n",
    "import matplotlib.pyplot as plt\n",
    "import ast\n",
    "\n",
    "#gfig = None\n",
    "\n",
    "def call_workflow(index):\n",
    "    get_job_energy_profile(index)\n",
    "\n",
    "def get_job_energy_profile(index):\n",
    "    global current_job_id, current_hostname\n",
    "    annot_str=''\n",
    "    job=df_jobs_viz.iloc[index,:]\n",
    "    nodes=ast.literal_eval(job['nodes'])\n",
    "    start_time=job[\"start_time\"]\n",
    "    end_time=job[\"end_time\"]\n",
    "\n",
    "    current_job_id=str(job['job_id'])\n",
    "    for node in nodes:\n",
    "        #print(node)\n",
    "        df_node = df_metric.loc[df_metric['node'] == node]\n",
    "        df_node_job = df_node.loc[df_node['timestamp'].between(start_time, end_time)]\n",
    "        if len(df_node_job) > 0:\n",
    "            #print(df_node_job.describe(), end=\"\\r\")\n",
    "            plot_energy_profile(df_node_job, job, annot_str)\n",
    "    #print(nodes)\n",
    "     \n",
    "    #plot_energy_profile(job_energy_profile, annot_str)    \n",
    "    #current_hostname=energy_host\n",
    "    ##\n",
    "    #describe=job_energy_profile.describe(percentiles=[.10, .25, .5, .75, .90])\n",
    "    #describe['job_id']=job['job_id']\n",
    "    #describe['socket']=socket\n",
    "    #describe['pp0']=describe[right_pp0]\n",
    "    #describe['DRAM']=describe[right_DRAM]\n",
    "    #describe['stat']=describe.index\n",
    "    #describe=describe.reset_index(drop=True)[arr_cols]  \n",
    "    #print(describe)  \n",
    "\n",
    "\n",
    "def plot_energy_profile(profile, job, annot_str):\n",
    "    TINY_SIZE = 2\n",
    "    SMALL_SIZE = 5\n",
    "    MEDIUM_SIZE = 25\n",
    "    BIGGER_SIZE = 50\n",
    "    FIG_WIDTH = 40\n",
    "    FIG_HEIGHT = 10\n",
    "\n",
    "    global gfig, gjob, gprofile  \n",
    "\n",
    "    gjob=job\n",
    "    gprofile=profile\n",
    "\n",
    "    plt.rc('font', size=MEDIUM_SIZE)          # controls default text sizes\n",
    "    plt.rc('axes', titlesize=MEDIUM_SIZE)     # fontsize of the axes title\n",
    "    plt.rc('axes', labelsize=MEDIUM_SIZE)     # fontsize of the x and y labels\n",
    "    plt.rc('xtick', labelsize=MEDIUM_SIZE)    # fontsize of the tick labels\n",
    "    plt.rc('ytick', labelsize=MEDIUM_SIZE)    # fontsize of the tick labels\n",
    "    plt.rc('legend', fontsize=MEDIUM_SIZE)    # legend fontsize\n",
    "    plt.rc('figure', titlesize=MEDIUM_SIZE)  # fontsize of the figure title\n",
    "    scatterplot_kwargs={'s': 50, 'palette': 'plasma'}\n",
    "    lineplot_kwargs={'linewidth': 1}\n",
    "\n",
    "    plt.clf()\n",
    "    fig = plt.figure(figsize=(FIG_WIDTH,FIG_HEIGHT))\n",
    "    #ax = sns.boxplot(x='stat', y='value', data=plot_data, showfliers=False, hue='reading',\n",
    "    #             linewidth=TINY_SIZE)\n",
    "\n",
    "    #ax = sns.scatterplot(data=profile, x='timestamp', y='value', **scatterplot_kwargs)\n",
    "    ax = sns.lineplot(data=profile, x='timestamp', y='value', **lineplot_kwargs)\n",
    "\n",
    "    ## SET BORDERS SIZE AND WIDTH\n",
    "    [line.set_linewidth(TINY_SIZE) for line in ax.spines.values()]\n",
    "    [line.set_markersize(TINY_SIZE) for line in ax.yaxis.get_ticklines()]\n",
    "    [line.set_markeredgewidth(TINY_SIZE) for line in ax.yaxis.get_ticklines()]\n",
    "    [line.set_markersize(SMALL_SIZE) for line in ax.xaxis.get_ticklines()]\n",
    "    [line.set_markeredgewidth(TINY_SIZE) for line in ax.xaxis.get_ticklines()]\n",
    "    #ax.text(x=0.1,y=0.5,\n",
    "    #        s=annot_str,\n",
    "    #        fontdict=dict(color='red',size=MEDIUM_SIZE),\n",
    "    #        bbox=dict(facecolor='yellow',alpha=0.5),\n",
    "    #        horizontalalignment='left',\n",
    "    #        verticalalignment='center',\n",
    "    #        transform=ax.transAxes)\n",
    "    ax.set_ylabel('Node used memory (GB)')\n",
    "    ax.set_xlabel('Timestamp')\n",
    "    ax.set_title('Job ID: '+current_job_id)    \n",
    "    gfig = fig\n",
    "\n",
    "button_saveplot = widgets.Button(description=\"Save to PDF\")\n",
    "button_savejobinfo = widgets.Button(description=\"Save job info to CSV\")\n",
    "button_savememinfo = widgets.Button(description=\"Save mem. profile to CSV\")\n",
    "output = widgets.Output()\n",
    "\n",
    "display(button_saveplot, button_savejobinfo, button_savememinfo, output)\n",
    "#display(button_saveplot, output)\n",
    "\n",
    "## TODO: Pass on b the data (job_id, hostname, etc)\n",
    "def save_plot_to_pdf_click(b):\n",
    "    with output:\n",
    "        #fig=plt.gcf()\n",
    "        #print(gfig)\n",
    "        fig_filename='../figures/marconi100_interact_plot_mem_free_profile_'+current_job_id+'.pdf'\n",
    "        gfig.savefig(fig_filename, format='pdf', dpi=300, bbox_inches='tight')\n",
    "        print('Plot saved as '+fig_filename, end=\"\\r\")\n",
    "\n",
    "def save_job_info_click(b):\n",
    "    with output:\n",
    "        job_filename='../samples_jobs_mem_profiles/'+current_job_id+'_job_info.csv'\n",
    "        pd.DataFrame(gjob).transpose().to_csv(job_filename, index=False, sep=\",\")        \n",
    "        print('Job info saved as '+job_filename, end=\"\\r\")\n",
    "\n",
    "def save_mem_profile_click(b):\n",
    "    with output:\n",
    "        profile_filename='../samples_jobs_mem_profiles/'+current_job_id+'_mem_profile.csv'\n",
    "        gprofile.to_csv(profile_filename, index=False, sep=\",\")\n",
    "        print('Job mem profile saved as '+profile_filename, end=\"\\r\")\n",
    "\n",
    "button_saveplot.on_click(save_plot_to_pdf_click)\n",
    "button_savejobinfo.on_click(save_job_info_click)\n",
    "button_savememinfo.on_click(save_mem_profile_click)\n",
    "\n",
    "interact(call_workflow, index=widgets.IntSlider(min=0, max=len(df_jobs_viz)-1, step=1, value=0));"
   ]
  },
  {
   "cell_type": "markdown",
   "metadata": {},
   "source": [
    "# Visualization per user"
   ]
  },
  {
   "cell_type": "code",
   "execution_count": 16,
   "metadata": {},
   "outputs": [
    {
     "data": {
      "application/vnd.jupyter.widget-view+json": {
       "model_id": "95ce78c0ad2044e0840f6f9dfd6d44ad",
       "version_major": 2,
       "version_minor": 0
      },
      "text/plain": [
       "Button(description='Save to PDF', style=ButtonStyle())"
      ]
     },
     "metadata": {},
     "output_type": "display_data"
    },
    {
     "data": {
      "application/vnd.jupyter.widget-view+json": {
       "model_id": "a8928d84efe74f8b94e8c3ed106ed96b",
       "version_major": 2,
       "version_minor": 0
      },
      "text/plain": [
       "Button(description='Save job info to CSV', style=ButtonStyle())"
      ]
     },
     "metadata": {},
     "output_type": "display_data"
    },
    {
     "data": {
      "application/vnd.jupyter.widget-view+json": {
       "model_id": "d51b3b63b10047579765408d492e681e",
       "version_major": 2,
       "version_minor": 0
      },
      "text/plain": [
       "Button(description='Save mem. profile to CSV', style=ButtonStyle())"
      ]
     },
     "metadata": {},
     "output_type": "display_data"
    },
    {
     "data": {
      "application/vnd.jupyter.widget-view+json": {
       "model_id": "4a602d1139f14fd7a4a886bfc794960d",
       "version_major": 2,
       "version_minor": 0
      },
      "text/plain": [
       "Output()"
      ]
     },
     "metadata": {},
     "output_type": "display_data"
    },
    {
     "name": "stdout",
     "output_type": "stream",
     "text": [
      "351\n"
     ]
    },
    {
     "data": {
      "application/vnd.jupyter.widget-view+json": {
       "model_id": "b47b61efe426451b91ec980cd0760302",
       "version_major": 2,
       "version_minor": 0
      },
      "text/plain": [
       "interactive(children=(IntSlider(value=0, description='index', max=53), Dropdown(description='User ID: ', optio…"
      ]
     },
     "metadata": {},
     "output_type": "display_data"
    }
   ],
   "source": [
    "from __future__ import print_function\n",
    "from ipywidgets import interact, interactive, fixed, interact_manual\n",
    "import ipywidgets as widgets\n",
    "import seaborn as sns\n",
    "import matplotlib.pyplot as plt\n",
    "import ast\n",
    "\n",
    "#gfig = None\n",
    "\n",
    "\n",
    "\n",
    "def call_workflow(index,user_id):\n",
    "    get_job_energy_profile(index, user_id)\n",
    "\n",
    "def get_job_energy_profile(index, user_id):\n",
    "    global current_job_id, current_hostname, user_nb_jobs\n",
    "    annot_str=''\n",
    "    df_jobs_viz_user = df_jobs_viz.loc[df_jobs_viz[\"user_id\"] == user_id]\n",
    "    user_nb_jobs = len(df_jobs_viz_user)\n",
    "    job=df_jobs_viz_user.iloc[index,:]\n",
    "    nodes=ast.literal_eval(job['nodes'])\n",
    "    start_time=job[\"start_time\"]\n",
    "    end_time=job[\"end_time\"]\n",
    "\n",
    "    current_job_id=str(job['job_id'])\n",
    "    for node in nodes:\n",
    "        #print(node)\n",
    "        df_node = df_metric.loc[df_metric['node'] == node]\n",
    "        df_node_job = df_node.loc[df_node['timestamp'].between(start_time, end_time)]\n",
    "        if len(df_node_job) > 0:\n",
    "            #print(df_node_job.describe(), end=\"\\r\")\n",
    "            plot_energy_profile(df_node_job, job, annot_str)\n",
    "    #print(nodes)\n",
    "     \n",
    "    #plot_energy_profile(job_energy_profile, annot_str)    \n",
    "    #current_hostname=energy_host\n",
    "    ##\n",
    "    #describe=job_energy_profile.describe(percentiles=[.10, .25, .5, .75, .90])\n",
    "    #describe['job_id']=job['job_id']\n",
    "    #describe['socket']=socket\n",
    "    #describe['pp0']=describe[right_pp0]\n",
    "    #describe['DRAM']=describe[right_DRAM]\n",
    "    #describe['stat']=describe.index\n",
    "    #describe=describe.reset_index(drop=True)[arr_cols]  \n",
    "    #print(describe)  \n",
    "\n",
    "\n",
    "def plot_energy_profile(profile, job, annot_str):\n",
    "    TINY_SIZE = 2\n",
    "    SMALL_SIZE = 5\n",
    "    MEDIUM_SIZE = 25\n",
    "    BIGGER_SIZE = 50\n",
    "    FIG_WIDTH = 40\n",
    "    FIG_HEIGHT = 10\n",
    "\n",
    "    global gfig, gjob, gprofile  \n",
    "\n",
    "    gjob=job\n",
    "    gprofile=profile\n",
    "\n",
    "    plt.rc('font', size=MEDIUM_SIZE)          # controls default text sizes\n",
    "    plt.rc('axes', titlesize=MEDIUM_SIZE)     # fontsize of the axes title\n",
    "    plt.rc('axes', labelsize=MEDIUM_SIZE)     # fontsize of the x and y labels\n",
    "    plt.rc('xtick', labelsize=MEDIUM_SIZE)    # fontsize of the tick labels\n",
    "    plt.rc('ytick', labelsize=MEDIUM_SIZE)    # fontsize of the tick labels\n",
    "    plt.rc('legend', fontsize=MEDIUM_SIZE)    # legend fontsize\n",
    "    plt.rc('figure', titlesize=MEDIUM_SIZE)  # fontsize of the figure title\n",
    "    scatterplot_kwargs={'s': 50, 'palette': 'plasma'}\n",
    "    lineplot_kwargs={'linewidth': 1}\n",
    "\n",
    "    plt.clf()\n",
    "    fig = plt.figure(figsize=(FIG_WIDTH,FIG_HEIGHT))\n",
    "    #ax = sns.boxplot(x='stat', y='value', data=plot_data, showfliers=False, hue='reading',\n",
    "    #             linewidth=TINY_SIZE)\n",
    "\n",
    "    #ax = sns.scatterplot(data=profile, x='timestamp', y='value', **scatterplot_kwargs)\n",
    "    ax = sns.lineplot(data=profile, x='timestamp', y='value', **lineplot_kwargs)\n",
    "\n",
    "    ## SET BORDERS SIZE AND WIDTH\n",
    "    [line.set_linewidth(TINY_SIZE) for line in ax.spines.values()]\n",
    "    [line.set_markersize(TINY_SIZE) for line in ax.yaxis.get_ticklines()]\n",
    "    [line.set_markeredgewidth(TINY_SIZE) for line in ax.yaxis.get_ticklines()]\n",
    "    [line.set_markersize(SMALL_SIZE) for line in ax.xaxis.get_ticklines()]\n",
    "    [line.set_markeredgewidth(TINY_SIZE) for line in ax.xaxis.get_ticklines()]\n",
    "    #ax.text(x=0.1,y=0.5,\n",
    "    #        s=annot_str,\n",
    "    #        fontdict=dict(color='red',size=MEDIUM_SIZE),\n",
    "    #        bbox=dict(facecolor='yellow',alpha=0.5),\n",
    "    #        horizontalalignment='left',\n",
    "    #        verticalalignment='center',\n",
    "    #        transform=ax.transAxes)\n",
    "    ax.set_ylabel('Node used memory (GB)')\n",
    "    ax.set_xlabel('Timestamp')\n",
    "    ax.set_title('Job ID: '+current_job_id)    \n",
    "    gfig = fig\n",
    "\n",
    "button_saveplot = widgets.Button(description=\"Save to PDF\")\n",
    "button_savejobinfo = widgets.Button(description=\"Save job info to CSV\")\n",
    "button_savememinfo = widgets.Button(description=\"Save mem. profile to CSV\")\n",
    "output = widgets.Output()\n",
    "\n",
    "display(button_saveplot, button_savejobinfo, button_savememinfo, output)\n",
    "#display(button_saveplot, output)\n",
    "\n",
    "## TODO: Pass on b the data (job_id, hostname, etc)\n",
    "def save_plot_to_pdf_click(b):\n",
    "    with output:\n",
    "        #fig=plt.gcf()\n",
    "        #print(gfig)\n",
    "        fig_filename='../figures/marconi100_interact_plot_mem_free_profile_'+current_job_id+'.pdf'\n",
    "        gfig.savefig(fig_filename, format='pdf', dpi=300, bbox_inches='tight')\n",
    "        print('Plot saved as '+fig_filename, end=\"\\r\")\n",
    "\n",
    "def save_job_info_click(b):\n",
    "    with output:\n",
    "        job_filename='../samples_jobs_mem_profiles/'+current_job_id+'_job_info.csv'\n",
    "        pd.DataFrame(gjob).transpose().to_csv(job_filename, index=False, sep=\",\")        \n",
    "        print('Job info saved as '+job_filename, end=\"\\r\")\n",
    "\n",
    "def save_mem_profile_click(b):\n",
    "    with output:\n",
    "        profile_filename='../samples_jobs_mem_profiles/'+current_job_id+'_mem_profile.csv'\n",
    "        gprofile.to_csv(profile_filename, index=False, sep=\",\")\n",
    "        print('Job mem profile saved as '+profile_filename, end=\"\\r\")\n",
    "\n",
    "button_saveplot.on_click(save_plot_to_pdf_click)\n",
    "button_savejobinfo.on_click(save_job_info_click)\n",
    "button_savememinfo.on_click(save_mem_profile_click)\n",
    "\n",
    "user_ids = df_jobs_viz[\"user_id\"].drop_duplicates().values.tolist()\n",
    "\n",
    "drp_userids = widgets.Dropdown(\n",
    "    options=user_ids,\n",
    "    value=user_ids[0],\n",
    "    description='User ID: ',\n",
    "    disabled=False,\n",
    ")\n",
    "\n",
    "print(len(df_jobs_viz))\n",
    "user_nb_jobs = len(df_jobs_viz.loc[df_jobs_viz[\"user_id\"]==user_ids[0]])\n",
    "\n",
    "slider_index_jobs = widgets.IntSlider(min=0, max=user_nb_jobs-1, step=1, value=0)\n",
    "\n",
    "#drp_userids.observe(get_job_energy_profile)\n",
    "\n",
    "# Define a function that updates the intslider's range based on the dropdown selection\n",
    "def update_range(*args):\n",
    "    # Update the range of the intslider based on the selected option in the dropdown\n",
    "    user_nb_jobs = len(df_jobs_viz.loc[df_jobs_viz[\"user_id\"]==drp_userids.value])    \n",
    "    slider_index_jobs.min = 0\n",
    "    slider_index_jobs.max = user_nb_jobs-1\n",
    "    # Reset the intslider's value to the start of the new range\n",
    "    slider_index_jobs.value = slider_index_jobs.min\n",
    "\n",
    "drp_userids.observe(update_range, 'value')\n",
    "\n",
    "\n",
    "interact(call_workflow, index=slider_index_jobs, user_id = drp_userids);"
   ]
  },
  {
   "cell_type": "markdown",
   "metadata": {},
   "source": [
    "Users with jobs with similar memory profile\n",
    "\n",
    "- 1234: a lot of constant and step-wise jobs\n",
    "- 1702: memory consumption increases over time and stays until the end\n",
    "- 1436: very short jobs (~2 min long)\n",
    "- 2: similar patten on all jobs \n",
    "- 1167: same pattern\n",
    "- 1474: multiple patterns but similar"
   ]
  },
  {
   "cell_type": "markdown",
   "metadata": {},
   "source": [
    "# Multi-Node jobs"
   ]
  },
  {
   "cell_type": "code",
   "execution_count": 28,
   "metadata": {},
   "outputs": [
    {
     "name": "stdout",
     "output_type": "stream",
     "text": [
      "308.57635498046875\n",
      "            timestamp      value  node  timestamp_seconds\n",
      "0 2022-05-22 13:45:08  34.138245     5       1.653220e+09\n",
      "1 2022-05-22 13:46:28  34.126587     5       1.653220e+09\n",
      "2 2022-05-22 13:47:08  34.134155     5       1.653220e+09\n",
      "3 2022-05-22 13:47:49  34.136963     5       1.653220e+09\n",
      "4 2022-05-22 13:49:48  34.139160     5       1.653220e+09\n",
      "5 2022-05-22 13:50:28  34.140137     5       1.653220e+09\n",
      "6 2022-05-22 13:51:08  34.141663     5       1.653220e+09\n",
      "7 2022-05-22 13:52:28  34.143738     5       1.653220e+09\n",
      "8 2022-05-22 13:53:08  34.141418     5       1.653220e+09\n",
      "9 2022-05-22 13:54:28  34.146118     5       1.653220e+09\n"
     ]
    }
   ],
   "source": [
    "import pandas as pd\n",
    "from datetime import datetime\n",
    "\n",
    "GIGABYTES_ONE_KILOBYTE = 9.5367431640625e-7\n",
    "\n",
    "#M100_MAX_MEM_GB = 256\n",
    "\n",
    "# Virtually increasing the max memory of M100\n",
    "# This is may be due to the data collection\n",
    "# The max free memory can be more than 256GB (308.57635498046875)\n",
    "# Even though the doc says (RAM: 256 GB/node (242 usable))\n",
    "# Setting to 320 is ok if we also set the simulation to 320GB \n",
    "# The job memory profile still holds\n",
    "M100_MAX_MEM_GB = 320\n",
    "\n",
    "NANOSECONDS_ONE_SECOND = 1e9\n",
    "\n",
    "df_jobs_viz_multi = pd.read_csv(\"../example_data/plugin=job_table/metric=job_info_marconi100/metric=mem_free_filter123_multinode.csv\")\n",
    "\n",
    "df_metric = pd.read_parquet(\"../example_data/plugin=ganglia_pub/metric=mem_free/a_0.parquet\")\n",
    "df_metric['node'] = pd.to_numeric(df_metric['node'])\n",
    "df_metric['value'] = pd.to_numeric(df_metric['value'])\n",
    "\n",
    "#Converting KB to GB\n",
    "df_metric['value'] = df_metric['value'] * GIGABYTES_ONE_KILOBYTE\n",
    "\n",
    "print(df_metric['value'].max())\n",
    "\n",
    "# Comment the line below if you want to visualize the mem_free and not the consumed memory\n",
    "df_metric['value'] = M100_MAX_MEM_GB - df_metric['value']\n",
    "\n",
    "# Adding the timestamp in seconds (need to fix this)\n",
    "#df_metric[\"timestamp_seconds\"] = pd.to_datetime(df_metric['timestamp']).astype(int) / NANOSECONDS_ONE_SECOND\n",
    "df_metric[\"timestamp_seconds\"] = [datetime.timestamp(t) for t in df_metric['timestamp'].values.tolist()]\n",
    "\n",
    "print(df_metric.head(10))"
   ]
  },
  {
   "cell_type": "code",
   "execution_count": 38,
   "metadata": {},
   "outputs": [
    {
     "data": {
      "application/vnd.jupyter.widget-view+json": {
       "model_id": "7f174c3161ed4ef0a0bdb2d94ddf6a12",
       "version_major": 2,
       "version_minor": 0
      },
      "text/plain": [
       "Button(description='Save to PDF', style=ButtonStyle())"
      ]
     },
     "metadata": {},
     "output_type": "display_data"
    },
    {
     "data": {
      "application/vnd.jupyter.widget-view+json": {
       "model_id": "35d7414b923348de8e62d7608499c53f",
       "version_major": 2,
       "version_minor": 0
      },
      "text/plain": [
       "Button(description='Save job info to CSV', style=ButtonStyle())"
      ]
     },
     "metadata": {},
     "output_type": "display_data"
    },
    {
     "data": {
      "application/vnd.jupyter.widget-view+json": {
       "model_id": "75333e2464b1453a892731cd5e4d8735",
       "version_major": 2,
       "version_minor": 0
      },
      "text/plain": [
       "Button(description='Save mem. profile to CSV', style=ButtonStyle())"
      ]
     },
     "metadata": {},
     "output_type": "display_data"
    },
    {
     "data": {
      "application/vnd.jupyter.widget-view+json": {
       "model_id": "15181771de5241e5a30027baea92ef02",
       "version_major": 2,
       "version_minor": 0
      },
      "text/plain": [
       "Output()"
      ]
     },
     "metadata": {},
     "output_type": "display_data"
    },
    {
     "name": "stdout",
     "output_type": "stream",
     "text": [
      "966\n"
     ]
    },
    {
     "data": {
      "application/vnd.jupyter.widget-view+json": {
       "model_id": "ff4f9300af5c45e5aa24f64074ea5ad2",
       "version_major": 2,
       "version_minor": 0
      },
      "text/plain": [
       "interactive(children=(IntSlider(value=0, description='index', max=9), Dropdown(description='User ID: ', option…"
      ]
     },
     "metadata": {},
     "output_type": "display_data"
    }
   ],
   "source": [
    "from __future__ import print_function\n",
    "from ipywidgets import interact, interactive, fixed, interact_manual\n",
    "from matplotlib.patches import Rectangle\n",
    "from matplotlib.collections import PatchCollection\n",
    "import scipy.stats as st\n",
    "import ipywidgets as widgets\n",
    "import seaborn as sns\n",
    "import matplotlib.pyplot as plt\n",
    "import ast\n",
    "\n",
    "#gfig = None\n",
    "TINY_SIZE = 2\n",
    "SMALL_SIZE = 5\n",
    "MEDIUM_SIZE = 25\n",
    "BIGGER_SIZE = 50\n",
    "FIG_WIDTH = 40\n",
    "FIG_HEIGHT = 10\n",
    "\n",
    "ZCORE_EXTREME_OUTLIERS = 3\n",
    "ZSCORE_UNUSUAL_OUTLIERS = 2\n",
    "\n",
    "global_job_mem_phases = None\n",
    "PHASES_COLS = [\"user_id\", \"job_id\", \"node\", \"start_timestamp\", \"end_timestamp\", \"max_memory\"]\n",
    "\n",
    "def call_workflow(index,user_id):\n",
    "    get_job_energy_profile(index, user_id)\n",
    "\n",
    "def get_profile_phases(profile, job):\n",
    "    global global_job_mem_phases\n",
    "    plt.clf()\n",
    "    fig = plt.figure(figsize=(FIG_WIDTH,FIG_HEIGHT))\n",
    "    groups = profile.groupby(\"node\")\n",
    "    nodes = profile[\"node\"].drop_duplicates().to_list()\n",
    "    job_phases = []\n",
    "    for i, node in enumerate(nodes):\n",
    "        g = groups.get_group(node).copy().reset_index()\n",
    "        g['timestamp_diff'] = g.sort_values(\"timestamp_seconds\")[\"value\"].diff()\n",
    "        #g = g.dropna(subset='timestamp_diff')\n",
    "        g = g.fillna(0.0)\n",
    "        g[\"zscore\"] = st.zscore(g['timestamp_diff'].values)\n",
    "        #print(g[\"zscore\"])\n",
    "        phases = g.loc[g[\"zscore\"].abs() > ZSCORE_UNUSUAL_OUTLIERS]\n",
    "        phases = pd.concat([g.head(1), phases, g.tail(1)]).reset_index()\n",
    "        for index, row in phases.iterrows():\n",
    "            if(index+1 < len(phases)):\n",
    "                start = row\n",
    "                end = phases.iloc[index+1]\n",
    "                window = g.loc[g[\"timestamp_seconds\"].between(start[\"timestamp_seconds\"], end[\"timestamp_seconds\"])][\"value\"]                \n",
    "                ## dropping the last element to calculate the border height\n",
    "                window = window.drop(window.tail(1).index, inplace=False)\n",
    "                mem_max = window.max()\n",
    "                phase_length = end[\"timestamp_seconds\"] - start[\"timestamp_seconds\"]\n",
    "                #print(start[\"timestamp_seconds\"], end[\"timestamp_seconds\"], mem_max)\n",
    "                job_phases.append([job[\"user_id\"], job[\"job_id\"], node, start[\"timestamp\"], end[\"timestamp\"], mem_max])\n",
    "                ## Only plot for the first node\n",
    "                if i == 0:\n",
    "                    xy = (start[\"timestamp_seconds\"],0)\n",
    "                    width = phase_length\n",
    "                    height = mem_max\n",
    "                    #print(xy, width, height)\n",
    "                    rct = Rectangle(xy=xy, width=width, height=height, facecolor=None, linestyle=\"-\", edgecolor=\"r\", linewidth=5, fill=False)\n",
    "                    plt.gca().add_patch(rct)\n",
    "                #rectangles.append(rct)\n",
    "                #plt.axhline(y=mem_max, xmin=start[\"timestamp_seconds\"], xmax=end[\"timestamp_seconds\"])\n",
    "                #plt.axhline(y=10, xmin=start[\"timestamp_seconds\"]/phase_length, xmax=end[\"timestamp_seconds\"]/phase_length)\n",
    "                #print(phase_length)\n",
    "                #print(start[\"timestamp_seconds\"]/phase_length, end[\"timestamp_seconds\"]/phase_length)\n",
    "\n",
    "        #pc = PatchCollection(rectangles, edgecolor=\"b\")\n",
    "        #plt.gca().add_collection(pc)\n",
    "        #print(phases[\"timestamp_seconds\"].values.tolist())       \n",
    "        #plt.vlines(x=phases[\"timestamp_seconds\"].values.tolist(),ymin=profile[\"value\"].min(), ymax=profile[\"value\"].max())\n",
    "        #print(phases[\"timestamp\"].values.tolist())\n",
    "        #break\n",
    "    df_job_phases = pd.DataFrame(data=job_phases, columns=PHASES_COLS)\n",
    "    global_job_mem_phases = df_job_phases\n",
    "    print(df_job_phases)\n",
    "       \n",
    "\n",
    "def get_job_energy_profile(index, user_id):\n",
    "    global current_job_id, current_hostname, user_nb_jobs\n",
    "    annot_str=''\n",
    "    df_jobs_viz_user = df_jobs_viz_multi.loc[df_jobs_viz_multi[\"user_id\"] == user_id]\n",
    "    user_nb_jobs = len(df_jobs_viz_user)\n",
    "    job=df_jobs_viz_user.iloc[index,:]\n",
    "    nodes=ast.literal_eval(job['nodes'])\n",
    "    start_time=job[\"start_time\"]\n",
    "    end_time=job[\"end_time\"]\n",
    "\n",
    "    current_job_id=str(job['job_id'])\n",
    "    #for node in nodes:\n",
    "        #print(node)\n",
    "    df_node = df_metric.loc[df_metric['node'].isin(nodes)]\n",
    "    df_node_job = df_node.loc[df_node['timestamp'].between(start_time, end_time)]\n",
    "    if len(df_node_job) > 0:\n",
    "        #print(df_node_job.describe(), end=\"\\r\")\n",
    "        get_profile_phases(df_node_job, job)        \n",
    "        plot_energy_profile(df_node_job, job, annot_str)\n",
    "    #print(nodes)\n",
    "     \n",
    "    #plot_energy_profile(job_energy_profile, annot_str)    \n",
    "    #current_hostname=energy_host\n",
    "    ##\n",
    "    #describe=job_energy_profile.describe(percentiles=[.10, .25, .5, .75, .90])\n",
    "    #describe['job_id']=job['job_id']\n",
    "    #describe['socket']=socket\n",
    "    #describe['pp0']=describe[right_pp0]\n",
    "    #describe['DRAM']=describe[right_DRAM]\n",
    "    #describe['stat']=describe.index\n",
    "    #describe=describe.reset_index(drop=True)[arr_cols]  \n",
    "    #print(describe)  \n",
    "\n",
    "\n",
    "def plot_energy_profile(profile, job, annot_str):\n",
    "    global gfig, gjob, gprofile  \n",
    "\n",
    "    gjob=job\n",
    "    gprofile=profile\n",
    "\n",
    "    plt.rc('font', size=MEDIUM_SIZE)          # controls default text sizes\n",
    "    plt.rc('axes', titlesize=MEDIUM_SIZE)     # fontsize of the axes title\n",
    "    plt.rc('axes', labelsize=MEDIUM_SIZE)     # fontsize of the x and y labels\n",
    "    plt.rc('xtick', labelsize=MEDIUM_SIZE)    # fontsize of the tick labels\n",
    "    plt.rc('ytick', labelsize=MEDIUM_SIZE)    # fontsize of the tick labels\n",
    "    plt.rc('legend', fontsize=MEDIUM_SIZE)    # legend fontsize\n",
    "    plt.rc('figure', titlesize=MEDIUM_SIZE)  # fontsize of the figure title\n",
    "    scatterplot_kwargs={'s': 50, 'palette': 'plasma'}\n",
    "    lineplot_kwargs={'linewidth': 1}\n",
    "\n",
    "    #plt.clf()\n",
    "    #fig = plt.figure(figsize=(FIG_WIDTH,FIG_HEIGHT))\n",
    "\n",
    "\n",
    "    #ax = sns.boxplot(x='stat', y='value', data=plot_data, showfliers=False, hue='reading',\n",
    "    #             linewidth=TINY_SIZE)\n",
    "\n",
    "    #ax = sns.scatterplot(data=profile, x='timestamp', y='value', **scatterplot_kwargs)\n",
    "\n",
    "    palette = sns.color_palette(\"rocket\")\n",
    "    #ax = sns.lineplot(data=profile, x='timestamp_seconds', y='value', hue='node', palette=palette, **lineplot_kwargs)\n",
    "    ax = sns.scatterplot(data=profile, x='timestamp_seconds', y='value', hue='node', palette=palette, s=10)\n",
    "\n",
    "    ## SET BORDERS SIZE AND WIDTH\n",
    "    [line.set_linewidth(TINY_SIZE) for line in ax.spines.values()]\n",
    "    [line.set_markersize(TINY_SIZE) for line in ax.yaxis.get_ticklines()]\n",
    "    [line.set_markeredgewidth(TINY_SIZE) for line in ax.yaxis.get_ticklines()]\n",
    "    [line.set_markersize(SMALL_SIZE) for line in ax.xaxis.get_ticklines()]\n",
    "    [line.set_markeredgewidth(TINY_SIZE) for line in ax.xaxis.get_ticklines()]\n",
    "    #ax.text(x=0.1,y=0.5,\n",
    "    #        s=annot_str,\n",
    "    #        fontdict=dict(color='red',size=MEDIUM_SIZE),\n",
    "    #        bbox=dict(facecolor='yellow',alpha=0.5),\n",
    "    #        horizontalalignment='left',\n",
    "    #        verticalalignment='center',\n",
    "    #        transform=ax.transAxes)\n",
    "    ax.set_ylabel('Node used memory (GB)')\n",
    "    ax.set_xlabel('Timestamp')\n",
    "    ax.set_title('Job ID: '+current_job_id)    \n",
    "    gfig = ax.get_figure()\n",
    "\n",
    "button_saveplot = widgets.Button(description=\"Save to PDF\")\n",
    "button_savejobinfo = widgets.Button(description=\"Save job info to CSV\")\n",
    "button_savememinfo = widgets.Button(description=\"Save mem. profile to CSV\")\n",
    "output = widgets.Output()\n",
    "\n",
    "display(button_saveplot, button_savejobinfo, button_savememinfo, output)\n",
    "#display(button_saveplot, output)\n",
    "\n",
    "## TODO: Pass on b the data (job_id, hostname, etc)\n",
    "def save_plot_to_pdf_click(b):\n",
    "    with output:\n",
    "        #fig=plt.gcf()\n",
    "        #print(gfig)\n",
    "        fig_filename='../figures/marconi100_interact_plot_mem_free_profile_'+current_job_id+'.pdf'\n",
    "        gfig.savefig(fig_filename, format='pdf', dpi=300, bbox_inches='tight')\n",
    "        print('Plot saved as '+fig_filename, end=\"\\r\")\n",
    "\n",
    "def save_job_info_click(b):\n",
    "    with output:\n",
    "        job_filename='../samples_jobs_mem_profiles/'+current_job_id+'_job_info.csv'\n",
    "        pd.DataFrame(gjob).transpose().to_csv(job_filename, index=False, sep=\",\")        \n",
    "        print('Job info saved as '+job_filename, end=\"\\r\")\n",
    "\n",
    "def save_mem_profile_click(b):\n",
    "    with output:\n",
    "        profile_filename='../samples_jobs_mem_profiles/'+current_job_id+'_mem_profile.csv'\n",
    "        gprofile.to_csv(profile_filename, index=False, sep=\",\")\n",
    "        phases_profile_filename='../samples_jobs_mem_profiles/'+\"user_\"+str(global_job_mem_phases[\"user_id\"].values[0])+\"_job_\"+str(global_job_mem_phases[\"job_id\"].values[0])+'_mem_profile.csv'\n",
    "        global_job_mem_phases.to_csv(phases_profile_filename, index=False, sep=\",\")\n",
    "        print('Job mem profile saved as '+profile_filename, end=\"\\t\")\n",
    "        print('Job mem profile phases saved as '+phases_profile_filename, end=\"\\r\")\n",
    "\n",
    "button_saveplot.on_click(save_plot_to_pdf_click)\n",
    "button_savejobinfo.on_click(save_job_info_click)\n",
    "button_savememinfo.on_click(save_mem_profile_click)\n",
    "\n",
    "user_ids = df_jobs_viz_multi[\"user_id\"].drop_duplicates().values.tolist()\n",
    "\n",
    "drp_userids = widgets.Dropdown(\n",
    "    options=user_ids,\n",
    "    value=user_ids[0],\n",
    "    description='User ID: ',\n",
    "    disabled=False,\n",
    ")\n",
    "\n",
    "print(len(df_jobs_viz_multi))\n",
    "user_nb_jobs = len(df_jobs_viz_multi.loc[df_jobs_viz_multi[\"user_id\"]==user_ids[0]])\n",
    "\n",
    "slider_index_jobs = widgets.IntSlider(min=0, max=user_nb_jobs-1, step=1, value=0)\n",
    "\n",
    "#drp_userids.observe(get_job_energy_profile)\n",
    "\n",
    "# Define a function that updates the intslider's range based on the dropdown selection\n",
    "def update_range(*args):\n",
    "    # Update the range of the intslider based on the selected option in the dropdown\n",
    "    user_nb_jobs = len(df_jobs_viz_multi.loc[df_jobs_viz_multi[\"user_id\"]==drp_userids.value])    \n",
    "    slider_index_jobs.min = 0\n",
    "    slider_index_jobs.max = user_nb_jobs-1\n",
    "    # Reset the intslider's value to the start of the new range\n",
    "    slider_index_jobs.value = slider_index_jobs.min\n",
    "\n",
    "drp_userids.observe(update_range, 'value')\n",
    "\n",
    "\n",
    "interact(call_workflow, index=slider_index_jobs, user_id = drp_userids);"
   ]
  },
  {
   "cell_type": "markdown",
   "metadata": {},
   "source": [
    "Users: \n",
    "\n",
    "- 1430: long jobs\n",
    "- 790\n",
    "- 521: samme pattern\n",
    "- 632: memory leak\n",
    "- 88: some synchronized phases\n",
    "- 838: some syncrhonized phases\n",
    "- 977: same pattern across nodes, periodicity with a large mem consumption\n",
    "- 96: a very weird app\n",
    "- 184: very long jobs\n",
    "- 1427: something close to the \"all over the place\"\n",
    "- 1681: a mix of periodic and constant\n",
    "- 640: two-phase job\n"
   ]
  },
  {
   "cell_type": "code",
   "execution_count": 3,
   "metadata": {},
   "outputs": [
    {
     "data": {
      "text/html": [
       "<div>\n",
       "<style scoped>\n",
       "    .dataframe tbody tr th:only-of-type {\n",
       "        vertical-align: middle;\n",
       "    }\n",
       "\n",
       "    .dataframe tbody tr th {\n",
       "        vertical-align: top;\n",
       "    }\n",
       "\n",
       "    .dataframe thead th {\n",
       "        text-align: right;\n",
       "    }\n",
       "</style>\n",
       "<table border=\"1\" class=\"dataframe\">\n",
       "  <thead>\n",
       "    <tr style=\"text-align: right;\">\n",
       "      <th></th>\n",
       "      <th>timestamp</th>\n",
       "      <th>value</th>\n",
       "      <th>node</th>\n",
       "    </tr>\n",
       "  </thead>\n",
       "  <tbody>\n",
       "    <tr>\n",
       "      <th>count</th>\n",
       "      <td>53389664</td>\n",
       "      <td>5.338966e+07</td>\n",
       "      <td>5.338966e+07</td>\n",
       "    </tr>\n",
       "    <tr>\n",
       "      <th>mean</th>\n",
       "      <td>2022-05-16 09:48:45.024000</td>\n",
       "      <td>3.730951e+01</td>\n",
       "      <td>4.955961e+02</td>\n",
       "    </tr>\n",
       "    <tr>\n",
       "      <th>min</th>\n",
       "      <td>2022-05-01 00:00:00</td>\n",
       "      <td>-5.257635e+01</td>\n",
       "      <td>0.000000e+00</td>\n",
       "    </tr>\n",
       "    <tr>\n",
       "      <th>25%</th>\n",
       "      <td>2022-05-08 11:37:50</td>\n",
       "      <td>1.047766e+01</td>\n",
       "      <td>2.480000e+02</td>\n",
       "    </tr>\n",
       "    <tr>\n",
       "      <th>50%</th>\n",
       "      <td>2022-05-16 10:50:43</td>\n",
       "      <td>3.227509e+01</td>\n",
       "      <td>4.950000e+02</td>\n",
       "    </tr>\n",
       "    <tr>\n",
       "      <th>75%</th>\n",
       "      <td>2022-05-24 05:46:40</td>\n",
       "      <td>6.160571e+01</td>\n",
       "      <td>7.440000e+02</td>\n",
       "    </tr>\n",
       "    <tr>\n",
       "      <th>90%</th>\n",
       "      <td>2022-05-28 21:13:44</td>\n",
       "      <td>8.632166e+01</td>\n",
       "      <td>8.910000e+02</td>\n",
       "    </tr>\n",
       "    <tr>\n",
       "      <th>max</th>\n",
       "      <td>2022-05-31 23:59:59</td>\n",
       "      <td>2.556728e+02</td>\n",
       "      <td>9.870000e+02</td>\n",
       "    </tr>\n",
       "    <tr>\n",
       "      <th>std</th>\n",
       "      <td>NaN</td>\n",
       "      <td>3.801913e+01</td>\n",
       "      <td>2.858347e+02</td>\n",
       "    </tr>\n",
       "  </tbody>\n",
       "</table>\n",
       "</div>"
      ],
      "text/plain": [
       "                        timestamp         value          node\n",
       "count                    53389664  5.338966e+07  5.338966e+07\n",
       "mean   2022-05-16 09:48:45.024000  3.730951e+01  4.955961e+02\n",
       "min           2022-05-01 00:00:00 -5.257635e+01  0.000000e+00\n",
       "25%           2022-05-08 11:37:50  1.047766e+01  2.480000e+02\n",
       "50%           2022-05-16 10:50:43  3.227509e+01  4.950000e+02\n",
       "75%           2022-05-24 05:46:40  6.160571e+01  7.440000e+02\n",
       "90%           2022-05-28 21:13:44  8.632166e+01  8.910000e+02\n",
       "max           2022-05-31 23:59:59  2.556728e+02  9.870000e+02\n",
       "std                           NaN  3.801913e+01  2.858347e+02"
      ]
     },
     "execution_count": 3,
     "metadata": {},
     "output_type": "execute_result"
    }
   ],
   "source": [
    "df_metric.describe(percentiles=[0.25,0.5,0.75,0.9])\n",
    "#sns.histplot(data=df_metric, x=\"value\")"
   ]
  },
  {
   "cell_type": "code",
   "execution_count": null,
   "metadata": {},
   "outputs": [],
   "source": []
  }
 ],
 "metadata": {
  "kernelspec": {
   "display_name": "base",
   "language": "python",
   "name": "python3"
  },
  "language_info": {
   "codemirror_mode": {
    "name": "ipython",
    "version": 3
   },
   "file_extension": ".py",
   "mimetype": "text/x-python",
   "name": "python",
   "nbconvert_exporter": "python",
   "pygments_lexer": "ipython3",
   "version": "3.9.12"
  },
  "orig_nbformat": 4
 },
 "nbformat": 4,
 "nbformat_minor": 2
}
