{
 "cells": [
  {
   "cell_type": "markdown",
   "metadata": {},
   "source": [
    "# Visualyzing Marconi100's `mem_free` job profiles"
   ]
  },
  {
   "cell_type": "markdown",
   "metadata": {},
   "source": [
    "## Read Data\n",
    "\n",
    "Here i visualize only the single-node jobs `/plugin=job_table/metric=job_info_marconi100/metric=mem_free_filter123_singlenode.csv`. We need to modify the plotting script to vizualize for multiple nodes (same path as but with a `multinode` suffix)\n",
    "\n",
    "IMPORTANT: To make it easier to understand the plots. I'm converting the `mem_free` to its corresponding consumed memory values (i.e., 256GB - `mem_free`). This way is easier to spot measurement errors (i.e., negative values)\n",
    "Some jobs have \"nice\" curves but with negative values"
   ]
  },
  {
   "cell_type": "code",
   "execution_count": 1,
   "metadata": {},
   "outputs": [
    {
     "data": {
      "text/plain": [
       "count    5.338966e+07\n",
       "mean     3.730951e+01\n",
       "std      3.801913e+01\n",
       "min     -5.257635e+01\n",
       "25%      1.047766e+01\n",
       "50%      3.227509e+01\n",
       "75%      6.160571e+01\n",
       "max      2.556728e+02\n",
       "Name: value, dtype: float64"
      ]
     },
     "execution_count": 1,
     "metadata": {},
     "output_type": "execute_result"
    }
   ],
   "source": [
    "import pandas as pd\n",
    "\n",
    "GIGABYTES_ONE_KILOBYTE = 9.5367431640625e-7\n",
    "\n",
    "M100_MAX_MEM_GB = 256 \n",
    "\n",
    "df_jobs_viz = pd.read_csv(\"../example_data/plugin=job_table/metric=job_info_marconi100/metric=mem_free_filter123_singlenode.csv\")\n",
    "\n",
    "df_metric = pd.read_parquet(\"../example_data/plugin=ganglia_pub/metric=mem_free/a_0.parquet\")\n",
    "df_metric['node'] = pd.to_numeric(df_metric['node'])\n",
    "df_metric['value'] = pd.to_numeric(df_metric['value'])\n",
    "\n",
    "#Converting KB to GB\n",
    "df_metric['value'] = df_metric['value'] * GIGABYTES_ONE_KILOBYTE\n",
    "\n",
    "# Comment the line below if you want to visualize the mem_free and not the consumed memory\n",
    "df_metric['value'] = M100_MAX_MEM_GB - df_metric['value']\n",
    "df_metric['value'].describe()"
   ]
  },
  {
   "cell_type": "markdown",
   "metadata": {},
   "source": [
    "## Plotting the `max_memory` profile for each job (interactive)"
   ]
  },
  {
   "cell_type": "code",
   "execution_count": 2,
   "metadata": {},
   "outputs": [
    {
     "data": {
      "application/vnd.jupyter.widget-view+json": {
       "model_id": "2b44b0cf852c44dbb1441e4db9d03f52",
       "version_major": 2,
       "version_minor": 0
      },
      "text/plain": [
       "Button(description='Save to PDF', style=ButtonStyle())"
      ]
     },
     "metadata": {},
     "output_type": "display_data"
    },
    {
     "data": {
      "application/vnd.jupyter.widget-view+json": {
       "model_id": "2acde3ccfb5440a9b60dd76644ac6c46",
       "version_major": 2,
       "version_minor": 0
      },
      "text/plain": [
       "Button(description='Save job info to CSV', style=ButtonStyle())"
      ]
     },
     "metadata": {},
     "output_type": "display_data"
    },
    {
     "data": {
      "application/vnd.jupyter.widget-view+json": {
       "model_id": "79406c589bb84bda923921ba47c72e16",
       "version_major": 2,
       "version_minor": 0
      },
      "text/plain": [
       "Button(description='Save mem. profile to CSV', style=ButtonStyle())"
      ]
     },
     "metadata": {},
     "output_type": "display_data"
    },
    {
     "data": {
      "application/vnd.jupyter.widget-view+json": {
       "model_id": "be9e4ec2b7f34e4f8d734597981552ac",
       "version_major": 2,
       "version_minor": 0
      },
      "text/plain": [
       "Output()"
      ]
     },
     "metadata": {},
     "output_type": "display_data"
    },
    {
     "data": {
      "application/vnd.jupyter.widget-view+json": {
       "model_id": "910fd286244246f1b3afac1f9365c789",
       "version_major": 2,
       "version_minor": 0
      },
      "text/plain": [
       "interactive(children=(IntSlider(value=0, description='index', max=350), Output()), _dom_classes=('widget-inter…"
      ]
     },
     "metadata": {},
     "output_type": "display_data"
    }
   ],
   "source": [
    "from __future__ import print_function\n",
    "from ipywidgets import interact, interactive, fixed, interact_manual\n",
    "import ipywidgets as widgets\n",
    "import seaborn as sns\n",
    "import matplotlib.pyplot as plt\n",
    "import ast\n",
    "\n",
    "#gfig = None\n",
    "\n",
    "def call_workflow(index):\n",
    "    get_job_energy_profile(index)\n",
    "\n",
    "def get_job_energy_profile(index):\n",
    "    global current_job_id, current_hostname\n",
    "    annot_str=''\n",
    "    job=df_jobs_viz.iloc[index,:]\n",
    "    nodes=ast.literal_eval(job['nodes'])\n",
    "    start_time=job[\"start_time\"]\n",
    "    end_time=job[\"end_time\"]\n",
    "\n",
    "    current_job_id=str(job['job_id'])\n",
    "    for node in nodes:\n",
    "        #print(node)\n",
    "        df_node = df_metric.loc[df_metric['node'] == node]\n",
    "        df_node_job = df_node.loc[df_node['timestamp'].between(start_time, end_time)]\n",
    "        if len(df_node_job) > 0:\n",
    "            #print(df_node_job.describe(), end=\"\\r\")\n",
    "            plot_energy_profile(df_node_job, job, annot_str)\n",
    "    #print(nodes)\n",
    "     \n",
    "    #plot_energy_profile(job_energy_profile, annot_str)    \n",
    "    #current_hostname=energy_host\n",
    "    ##\n",
    "    #describe=job_energy_profile.describe(percentiles=[.10, .25, .5, .75, .90])\n",
    "    #describe['job_id']=job['job_id']\n",
    "    #describe['socket']=socket\n",
    "    #describe['pp0']=describe[right_pp0]\n",
    "    #describe['DRAM']=describe[right_DRAM]\n",
    "    #describe['stat']=describe.index\n",
    "    #describe=describe.reset_index(drop=True)[arr_cols]  \n",
    "    #print(describe)  \n",
    "\n",
    "\n",
    "def plot_energy_profile(profile, job, annot_str):\n",
    "    TINY_SIZE = 2\n",
    "    SMALL_SIZE = 5\n",
    "    MEDIUM_SIZE = 25\n",
    "    BIGGER_SIZE = 50\n",
    "    FIG_WIDTH = 40\n",
    "    FIG_HEIGHT = 10\n",
    "\n",
    "    global gfig, gjob, gprofile  \n",
    "\n",
    "    gjob=job\n",
    "    gprofile=profile\n",
    "\n",
    "    plt.rc('font', size=MEDIUM_SIZE)          # controls default text sizes\n",
    "    plt.rc('axes', titlesize=MEDIUM_SIZE)     # fontsize of the axes title\n",
    "    plt.rc('axes', labelsize=MEDIUM_SIZE)     # fontsize of the x and y labels\n",
    "    plt.rc('xtick', labelsize=MEDIUM_SIZE)    # fontsize of the tick labels\n",
    "    plt.rc('ytick', labelsize=MEDIUM_SIZE)    # fontsize of the tick labels\n",
    "    plt.rc('legend', fontsize=MEDIUM_SIZE)    # legend fontsize\n",
    "    plt.rc('figure', titlesize=MEDIUM_SIZE)  # fontsize of the figure title\n",
    "    scatterplot_kwargs={'s': 50, 'palette': 'plasma'}\n",
    "    lineplot_kwargs={'linewidth': 1}\n",
    "\n",
    "    plt.clf()\n",
    "    fig = plt.figure(figsize=(FIG_WIDTH,FIG_HEIGHT))\n",
    "    #ax = sns.boxplot(x='stat', y='value', data=plot_data, showfliers=False, hue='reading',\n",
    "    #             linewidth=TINY_SIZE)\n",
    "\n",
    "    #ax = sns.scatterplot(data=profile, x='timestamp', y='value', **scatterplot_kwargs)\n",
    "    ax = sns.lineplot(data=profile, x='timestamp', y='value', **lineplot_kwargs)\n",
    "\n",
    "    ## SET BORDERS SIZE AND WIDTH\n",
    "    [line.set_linewidth(TINY_SIZE) for line in ax.spines.values()]\n",
    "    [line.set_markersize(TINY_SIZE) for line in ax.yaxis.get_ticklines()]\n",
    "    [line.set_markeredgewidth(TINY_SIZE) for line in ax.yaxis.get_ticklines()]\n",
    "    [line.set_markersize(SMALL_SIZE) for line in ax.xaxis.get_ticklines()]\n",
    "    [line.set_markeredgewidth(TINY_SIZE) for line in ax.xaxis.get_ticklines()]\n",
    "    #ax.text(x=0.1,y=0.5,\n",
    "    #        s=annot_str,\n",
    "    #        fontdict=dict(color='red',size=MEDIUM_SIZE),\n",
    "    #        bbox=dict(facecolor='yellow',alpha=0.5),\n",
    "    #        horizontalalignment='left',\n",
    "    #        verticalalignment='center',\n",
    "    #        transform=ax.transAxes)\n",
    "    ax.set_ylabel('Node used memory (GB)')\n",
    "    ax.set_xlabel('Timestamp')\n",
    "    ax.set_title('Job ID: '+current_job_id)    \n",
    "    gfig = fig\n",
    "\n",
    "button_saveplot = widgets.Button(description=\"Save to PDF\")\n",
    "button_savejobinfo = widgets.Button(description=\"Save job info to CSV\")\n",
    "button_savememinfo = widgets.Button(description=\"Save mem. profile to CSV\")\n",
    "output = widgets.Output()\n",
    "\n",
    "display(button_saveplot, button_savejobinfo, button_savememinfo, output)\n",
    "#display(button_saveplot, output)\n",
    "\n",
    "## TODO: Pass on b the data (job_id, hostname, etc)\n",
    "def save_plot_to_pdf_click(b):\n",
    "    with output:\n",
    "        #fig=plt.gcf()\n",
    "        #print(gfig)\n",
    "        fig_filename='../figures/marconi100_interact_plot_mem_free_profile_'+current_job_id+'.pdf'\n",
    "        gfig.savefig(fig_filename, format='pdf', dpi=300, bbox_inches='tight')\n",
    "        print('Plot saved as '+fig_filename, end=\"\\r\")\n",
    "\n",
    "def save_job_info_click(b):\n",
    "    with output:\n",
    "        job_filename='../samples_jobs_mem_profiles/'+current_job_id+'_job_info.csv'\n",
    "        pd.DataFrame(gjob).transpose().to_csv(job_filename, index=False, sep=\",\")        \n",
    "        print('Job info saved as '+job_filename, end=\"\\r\")\n",
    "\n",
    "def save_mem_profile_click(b):\n",
    "    with output:\n",
    "        profile_filename='../samples_jobs_mem_profiles/'+current_job_id+'_mem_profile.csv'\n",
    "        gprofile.to_csv(profile_filename, index=False, sep=\",\")\n",
    "        print('Job mem profile saved as '+profile_filename, end=\"\\r\")\n",
    "\n",
    "button_saveplot.on_click(save_plot_to_pdf_click)\n",
    "button_savejobinfo.on_click(save_job_info_click)\n",
    "button_savememinfo.on_click(save_mem_profile_click)\n",
    "\n",
    "interact(call_workflow, index=widgets.IntSlider(min=0, max=len(df_jobs_viz)-1, step=1, value=0));"
   ]
  },
  {
   "cell_type": "markdown",
   "metadata": {},
   "source": [
    "# Visualization per user"
   ]
  },
  {
   "cell_type": "code",
   "execution_count": 6,
   "metadata": {},
   "outputs": [
    {
     "data": {
      "application/vnd.jupyter.widget-view+json": {
       "model_id": "163f41bda2ef4a4da66c781284a18696",
       "version_major": 2,
       "version_minor": 0
      },
      "text/plain": [
       "Button(description='Save to PDF', style=ButtonStyle())"
      ]
     },
     "metadata": {},
     "output_type": "display_data"
    },
    {
     "data": {
      "application/vnd.jupyter.widget-view+json": {
       "model_id": "1f3af3ecd15f4c1fb80ac81c54e607fc",
       "version_major": 2,
       "version_minor": 0
      },
      "text/plain": [
       "Button(description='Save job info to CSV', style=ButtonStyle())"
      ]
     },
     "metadata": {},
     "output_type": "display_data"
    },
    {
     "data": {
      "application/vnd.jupyter.widget-view+json": {
       "model_id": "ad3b24dcde9d45c29f5f719758df94d5",
       "version_major": 2,
       "version_minor": 0
      },
      "text/plain": [
       "Button(description='Save mem. profile to CSV', style=ButtonStyle())"
      ]
     },
     "metadata": {},
     "output_type": "display_data"
    },
    {
     "data": {
      "application/vnd.jupyter.widget-view+json": {
       "model_id": "673ae40493a74ad5bb55c9a184ff36d0",
       "version_major": 2,
       "version_minor": 0
      },
      "text/plain": [
       "Output()"
      ]
     },
     "metadata": {},
     "output_type": "display_data"
    },
    {
     "data": {
      "application/vnd.jupyter.widget-view+json": {
       "model_id": "cf7aff3bb02e4ebdb8711e869d64e57e",
       "version_major": 2,
       "version_minor": 0
      },
      "text/plain": [
       "interactive(children=(IntSlider(value=0, description='index', max=53), Dropdown(description='User ID: ', optio…"
      ]
     },
     "metadata": {},
     "output_type": "display_data"
    }
   ],
   "source": [
    "from __future__ import print_function\n",
    "from ipywidgets import interact, interactive, fixed, interact_manual\n",
    "import ipywidgets as widgets\n",
    "import seaborn as sns\n",
    "import matplotlib.pyplot as plt\n",
    "import ast\n",
    "\n",
    "#gfig = None\n",
    "\n",
    "\n",
    "\n",
    "def call_workflow(index,user_id):\n",
    "    get_job_energy_profile(index, user_id)\n",
    "\n",
    "def get_job_energy_profile(index, user_id):\n",
    "    global current_job_id, current_hostname, user_nb_jobs\n",
    "    annot_str=''\n",
    "    df_jobs_viz_user = df_jobs_viz.loc[df_jobs_viz[\"user_id\"] == user_id]\n",
    "    user_nb_jobs = len(df_jobs_viz_user)\n",
    "    job=df_jobs_viz_user.iloc[index,:]\n",
    "    nodes=ast.literal_eval(job['nodes'])\n",
    "    start_time=job[\"start_time\"]\n",
    "    end_time=job[\"end_time\"]\n",
    "\n",
    "    current_job_id=str(job['job_id'])\n",
    "    for node in nodes:\n",
    "        #print(node)\n",
    "        df_node = df_metric.loc[df_metric['node'] == node]\n",
    "        df_node_job = df_node.loc[df_node['timestamp'].between(start_time, end_time)]\n",
    "        if len(df_node_job) > 0:\n",
    "            #print(df_node_job.describe(), end=\"\\r\")\n",
    "            plot_energy_profile(df_node_job, job, annot_str)\n",
    "    #print(nodes)\n",
    "     \n",
    "    #plot_energy_profile(job_energy_profile, annot_str)    \n",
    "    #current_hostname=energy_host\n",
    "    ##\n",
    "    #describe=job_energy_profile.describe(percentiles=[.10, .25, .5, .75, .90])\n",
    "    #describe['job_id']=job['job_id']\n",
    "    #describe['socket']=socket\n",
    "    #describe['pp0']=describe[right_pp0]\n",
    "    #describe['DRAM']=describe[right_DRAM]\n",
    "    #describe['stat']=describe.index\n",
    "    #describe=describe.reset_index(drop=True)[arr_cols]  \n",
    "    #print(describe)  \n",
    "\n",
    "\n",
    "def plot_energy_profile(profile, job, annot_str):\n",
    "    TINY_SIZE = 2\n",
    "    SMALL_SIZE = 5\n",
    "    MEDIUM_SIZE = 25\n",
    "    BIGGER_SIZE = 50\n",
    "    FIG_WIDTH = 40\n",
    "    FIG_HEIGHT = 10\n",
    "\n",
    "    global gfig, gjob, gprofile  \n",
    "\n",
    "    gjob=job\n",
    "    gprofile=profile\n",
    "\n",
    "    plt.rc('font', size=MEDIUM_SIZE)          # controls default text sizes\n",
    "    plt.rc('axes', titlesize=MEDIUM_SIZE)     # fontsize of the axes title\n",
    "    plt.rc('axes', labelsize=MEDIUM_SIZE)     # fontsize of the x and y labels\n",
    "    plt.rc('xtick', labelsize=MEDIUM_SIZE)    # fontsize of the tick labels\n",
    "    plt.rc('ytick', labelsize=MEDIUM_SIZE)    # fontsize of the tick labels\n",
    "    plt.rc('legend', fontsize=MEDIUM_SIZE)    # legend fontsize\n",
    "    plt.rc('figure', titlesize=MEDIUM_SIZE)  # fontsize of the figure title\n",
    "    scatterplot_kwargs={'s': 50, 'palette': 'plasma'}\n",
    "    lineplot_kwargs={'linewidth': 1}\n",
    "\n",
    "    plt.clf()\n",
    "    fig = plt.figure(figsize=(FIG_WIDTH,FIG_HEIGHT))\n",
    "    #ax = sns.boxplot(x='stat', y='value', data=plot_data, showfliers=False, hue='reading',\n",
    "    #             linewidth=TINY_SIZE)\n",
    "\n",
    "    #ax = sns.scatterplot(data=profile, x='timestamp', y='value', **scatterplot_kwargs)\n",
    "    ax = sns.lineplot(data=profile, x='timestamp', y='value', **lineplot_kwargs)\n",
    "\n",
    "    ## SET BORDERS SIZE AND WIDTH\n",
    "    [line.set_linewidth(TINY_SIZE) for line in ax.spines.values()]\n",
    "    [line.set_markersize(TINY_SIZE) for line in ax.yaxis.get_ticklines()]\n",
    "    [line.set_markeredgewidth(TINY_SIZE) for line in ax.yaxis.get_ticklines()]\n",
    "    [line.set_markersize(SMALL_SIZE) for line in ax.xaxis.get_ticklines()]\n",
    "    [line.set_markeredgewidth(TINY_SIZE) for line in ax.xaxis.get_ticklines()]\n",
    "    #ax.text(x=0.1,y=0.5,\n",
    "    #        s=annot_str,\n",
    "    #        fontdict=dict(color='red',size=MEDIUM_SIZE),\n",
    "    #        bbox=dict(facecolor='yellow',alpha=0.5),\n",
    "    #        horizontalalignment='left',\n",
    "    #        verticalalignment='center',\n",
    "    #        transform=ax.transAxes)\n",
    "    ax.set_ylabel('Node used memory (GB)')\n",
    "    ax.set_xlabel('Timestamp')\n",
    "    ax.set_title('Job ID: '+current_job_id)    \n",
    "    gfig = fig\n",
    "\n",
    "button_saveplot = widgets.Button(description=\"Save to PDF\")\n",
    "button_savejobinfo = widgets.Button(description=\"Save job info to CSV\")\n",
    "button_savememinfo = widgets.Button(description=\"Save mem. profile to CSV\")\n",
    "output = widgets.Output()\n",
    "\n",
    "display(button_saveplot, button_savejobinfo, button_savememinfo, output)\n",
    "#display(button_saveplot, output)\n",
    "\n",
    "## TODO: Pass on b the data (job_id, hostname, etc)\n",
    "def save_plot_to_pdf_click(b):\n",
    "    with output:\n",
    "        #fig=plt.gcf()\n",
    "        #print(gfig)\n",
    "        fig_filename='../figures/marconi100_interact_plot_mem_free_profile_'+current_job_id+'.pdf'\n",
    "        gfig.savefig(fig_filename, format='pdf', dpi=300, bbox_inches='tight')\n",
    "        print('Plot saved as '+fig_filename, end=\"\\r\")\n",
    "\n",
    "def save_job_info_click(b):\n",
    "    with output:\n",
    "        job_filename='../samples_jobs_mem_profiles/'+current_job_id+'_job_info.csv'\n",
    "        pd.DataFrame(gjob).transpose().to_csv(job_filename, index=False, sep=\",\")        \n",
    "        print('Job info saved as '+job_filename, end=\"\\r\")\n",
    "\n",
    "def save_mem_profile_click(b):\n",
    "    with output:\n",
    "        profile_filename='../samples_jobs_mem_profiles/'+current_job_id+'_mem_profile.csv'\n",
    "        gprofile.to_csv(profile_filename, index=False, sep=\",\")\n",
    "        print('Job mem profile saved as '+profile_filename, end=\"\\r\")\n",
    "\n",
    "button_saveplot.on_click(save_plot_to_pdf_click)\n",
    "button_savejobinfo.on_click(save_job_info_click)\n",
    "button_savememinfo.on_click(save_mem_profile_click)\n",
    "\n",
    "user_ids = df_jobs_viz[\"user_id\"].drop_duplicates().values.tolist()\n",
    "\n",
    "drp_userids = widgets.Dropdown(\n",
    "    options=user_ids,\n",
    "    value=user_ids[0],\n",
    "    description='User ID: ',\n",
    "    disabled=False,\n",
    ")\n",
    "\n",
    "user_nb_jobs = len(df_jobs_viz.loc[df_jobs_viz[\"user_id\"]==user_ids[0]])\n",
    "\n",
    "slider_index_jobs = widgets.IntSlider(min=0, max=user_nb_jobs-1, step=1, value=0)\n",
    "\n",
    "#drp_userids.observe(get_job_energy_profile)\n",
    "\n",
    "# Define a function that updates the intslider's range based on the dropdown selection\n",
    "def update_range(*args):\n",
    "    # Update the range of the intslider based on the selected option in the dropdown\n",
    "    user_nb_jobs = len(df_jobs_viz.loc[df_jobs_viz[\"user_id\"]==drp_userids.value])    \n",
    "    slider_index_jobs.min = 0\n",
    "    slider_index_jobs.max = user_nb_jobs-1\n",
    "    # Reset the intslider's value to the start of the new range\n",
    "    slider_index_jobs.value = slider_index_jobs.min\n",
    "\n",
    "drp_userids.observe(update_range, 'value')\n",
    "\n",
    "\n",
    "interact(call_workflow, index=slider_index_jobs, user_id = drp_userids);"
   ]
  },
  {
   "cell_type": "markdown",
   "metadata": {},
   "source": [
    "Users with jobs with similar memory profile\n",
    "\n",
    "- 1234: a lot of constant and step-wise jobs\n",
    "- 1702: memory consumption increases over time and stays until the end\n",
    "- 1436: very short jobs (~2 min long)\n",
    "- 2: similar patten on all jobs \n",
    "- 1167: same pattern\n",
    "- 1474: multiple patterns but similar"
   ]
  },
  {
   "cell_type": "markdown",
   "metadata": {},
   "source": [
    "# Multi-Node jobs"
   ]
  },
  {
   "cell_type": "code",
   "execution_count": 10,
   "metadata": {},
   "outputs": [
    {
     "name": "stdout",
     "output_type": "stream",
     "text": [
      "            timestamp      value  node\n",
      "0 2022-05-22 13:45:08 -29.861755     5\n",
      "1 2022-05-22 13:46:28 -29.873413     5\n",
      "2 2022-05-22 13:47:08 -29.865845     5\n",
      "3 2022-05-22 13:47:49 -29.863037     5\n",
      "4 2022-05-22 13:49:48 -29.860840     5\n",
      "5 2022-05-22 13:50:28 -29.859863     5\n",
      "6 2022-05-22 13:51:08 -29.858337     5\n",
      "7 2022-05-22 13:52:28 -29.856262     5\n",
      "8 2022-05-22 13:53:08 -29.858582     5\n",
      "9 2022-05-22 13:54:28 -29.853882     5\n"
     ]
    }
   ],
   "source": [
    "import pandas as pd\n",
    "\n",
    "GIGABYTES_ONE_KILOBYTE = 9.5367431640625e-7\n",
    "\n",
    "M100_MAX_MEM_GB = 256 \n",
    "\n",
    "df_jobs_viz_multi = pd.read_csv(\"../example_data/plugin=job_table/metric=job_info_marconi100/metric=mem_free_filter123_multinode.csv\")\n",
    "\n",
    "df_metric = pd.read_parquet(\"../example_data/plugin=ganglia_pub/metric=mem_free/a_0.parquet\")\n",
    "df_metric['node'] = pd.to_numeric(df_metric['node'])\n",
    "df_metric['value'] = pd.to_numeric(df_metric['value'])\n",
    "\n",
    "#Converting KB to GB\n",
    "df_metric['value'] = df_metric['value'] * GIGABYTES_ONE_KILOBYTE\n",
    "\n",
    "# Comment the line below if you want to visualize the mem_free and not the consumed memory\n",
    "df_metric['value'] = M100_MAX_MEM_GB - df_metric['value']\n",
    "print(df_metric.head(10))"
   ]
  },
  {
   "cell_type": "code",
   "execution_count": 12,
   "metadata": {},
   "outputs": [
    {
     "data": {
      "application/vnd.jupyter.widget-view+json": {
       "model_id": "1f3ffcada5e84ff18aeabdd7f0f2b2d2",
       "version_major": 2,
       "version_minor": 0
      },
      "text/plain": [
       "Button(description='Save to PDF', style=ButtonStyle())"
      ]
     },
     "metadata": {},
     "output_type": "display_data"
    },
    {
     "data": {
      "application/vnd.jupyter.widget-view+json": {
       "model_id": "d2d73292d870457ea2500c3b94002045",
       "version_major": 2,
       "version_minor": 0
      },
      "text/plain": [
       "Button(description='Save job info to CSV', style=ButtonStyle())"
      ]
     },
     "metadata": {},
     "output_type": "display_data"
    },
    {
     "data": {
      "application/vnd.jupyter.widget-view+json": {
       "model_id": "6b2b2e0dd34c4f85b769801764bef8b9",
       "version_major": 2,
       "version_minor": 0
      },
      "text/plain": [
       "Button(description='Save mem. profile to CSV', style=ButtonStyle())"
      ]
     },
     "metadata": {},
     "output_type": "display_data"
    },
    {
     "data": {
      "application/vnd.jupyter.widget-view+json": {
       "model_id": "d4b40848c31648b3bb429e7fee2fe44c",
       "version_major": 2,
       "version_minor": 0
      },
      "text/plain": [
       "Output()"
      ]
     },
     "metadata": {},
     "output_type": "display_data"
    },
    {
     "data": {
      "application/vnd.jupyter.widget-view+json": {
       "model_id": "f34ed5ade9204175a5c6acc44819c1a8",
       "version_major": 2,
       "version_minor": 0
      },
      "text/plain": [
       "interactive(children=(IntSlider(value=0, description='index', max=9), Dropdown(description='User ID: ', option…"
      ]
     },
     "metadata": {},
     "output_type": "display_data"
    }
   ],
   "source": [
    "from __future__ import print_function\n",
    "from ipywidgets import interact, interactive, fixed, interact_manual\n",
    "import ipywidgets as widgets\n",
    "import seaborn as sns\n",
    "import matplotlib.pyplot as plt\n",
    "import ast\n",
    "\n",
    "#gfig = None\n",
    "\n",
    "\n",
    "\n",
    "def call_workflow(index,user_id):\n",
    "    get_job_energy_profile(index, user_id)\n",
    "\n",
    "def get_job_energy_profile(index, user_id):\n",
    "    global current_job_id, current_hostname, user_nb_jobs\n",
    "    annot_str=''\n",
    "    df_jobs_viz_user = df_jobs_viz_multi.loc[df_jobs_viz_multi[\"user_id\"] == user_id]\n",
    "    user_nb_jobs = len(df_jobs_viz_user)\n",
    "    job=df_jobs_viz_user.iloc[index,:]\n",
    "    nodes=ast.literal_eval(job['nodes'])\n",
    "    start_time=job[\"start_time\"]\n",
    "    end_time=job[\"end_time\"]\n",
    "\n",
    "    current_job_id=str(job['job_id'])\n",
    "    #for node in nodes:\n",
    "        #print(node)\n",
    "    df_node = df_metric.loc[df_metric['node'].isin(nodes)]\n",
    "    df_node_job = df_node.loc[df_node['timestamp'].between(start_time, end_time)]\n",
    "    if len(df_node_job) > 0:\n",
    "        #print(df_node_job.describe(), end=\"\\r\")\n",
    "        plot_energy_profile(df_node_job, job, annot_str)\n",
    "    #print(nodes)\n",
    "     \n",
    "    #plot_energy_profile(job_energy_profile, annot_str)    \n",
    "    #current_hostname=energy_host\n",
    "    ##\n",
    "    #describe=job_energy_profile.describe(percentiles=[.10, .25, .5, .75, .90])\n",
    "    #describe['job_id']=job['job_id']\n",
    "    #describe['socket']=socket\n",
    "    #describe['pp0']=describe[right_pp0]\n",
    "    #describe['DRAM']=describe[right_DRAM]\n",
    "    #describe['stat']=describe.index\n",
    "    #describe=describe.reset_index(drop=True)[arr_cols]  \n",
    "    #print(describe)  \n",
    "\n",
    "\n",
    "def plot_energy_profile(profile, job, annot_str):\n",
    "    TINY_SIZE = 2\n",
    "    SMALL_SIZE = 5\n",
    "    MEDIUM_SIZE = 25\n",
    "    BIGGER_SIZE = 50\n",
    "    FIG_WIDTH = 40\n",
    "    FIG_HEIGHT = 10\n",
    "\n",
    "    global gfig, gjob, gprofile  \n",
    "\n",
    "    gjob=job\n",
    "    gprofile=profile\n",
    "\n",
    "    plt.rc('font', size=MEDIUM_SIZE)          # controls default text sizes\n",
    "    plt.rc('axes', titlesize=MEDIUM_SIZE)     # fontsize of the axes title\n",
    "    plt.rc('axes', labelsize=MEDIUM_SIZE)     # fontsize of the x and y labels\n",
    "    plt.rc('xtick', labelsize=MEDIUM_SIZE)    # fontsize of the tick labels\n",
    "    plt.rc('ytick', labelsize=MEDIUM_SIZE)    # fontsize of the tick labels\n",
    "    plt.rc('legend', fontsize=MEDIUM_SIZE)    # legend fontsize\n",
    "    plt.rc('figure', titlesize=MEDIUM_SIZE)  # fontsize of the figure title\n",
    "    scatterplot_kwargs={'s': 50, 'palette': 'plasma'}\n",
    "    lineplot_kwargs={'linewidth': 1}\n",
    "\n",
    "    plt.clf()\n",
    "    fig = plt.figure(figsize=(FIG_WIDTH,FIG_HEIGHT))\n",
    "    #ax = sns.boxplot(x='stat', y='value', data=plot_data, showfliers=False, hue='reading',\n",
    "    #             linewidth=TINY_SIZE)\n",
    "\n",
    "    #ax = sns.scatterplot(data=profile, x='timestamp', y='value', **scatterplot_kwargs)\n",
    "\n",
    "    palette = sns.color_palette(\"rocket\")\n",
    "    ax = sns.lineplot(data=profile, x='timestamp', y='value', hue='node', palette=palette, **lineplot_kwargs)\n",
    "\n",
    "    ## SET BORDERS SIZE AND WIDTH\n",
    "    [line.set_linewidth(TINY_SIZE) for line in ax.spines.values()]\n",
    "    [line.set_markersize(TINY_SIZE) for line in ax.yaxis.get_ticklines()]\n",
    "    [line.set_markeredgewidth(TINY_SIZE) for line in ax.yaxis.get_ticklines()]\n",
    "    [line.set_markersize(SMALL_SIZE) for line in ax.xaxis.get_ticklines()]\n",
    "    [line.set_markeredgewidth(TINY_SIZE) for line in ax.xaxis.get_ticklines()]\n",
    "    #ax.text(x=0.1,y=0.5,\n",
    "    #        s=annot_str,\n",
    "    #        fontdict=dict(color='red',size=MEDIUM_SIZE),\n",
    "    #        bbox=dict(facecolor='yellow',alpha=0.5),\n",
    "    #        horizontalalignment='left',\n",
    "    #        verticalalignment='center',\n",
    "    #        transform=ax.transAxes)\n",
    "    ax.set_ylabel('Node used memory (GB)')\n",
    "    ax.set_xlabel('Timestamp')\n",
    "    ax.set_title('Job ID: '+current_job_id)    \n",
    "    gfig = fig\n",
    "\n",
    "button_saveplot = widgets.Button(description=\"Save to PDF\")\n",
    "button_savejobinfo = widgets.Button(description=\"Save job info to CSV\")\n",
    "button_savememinfo = widgets.Button(description=\"Save mem. profile to CSV\")\n",
    "output = widgets.Output()\n",
    "\n",
    "display(button_saveplot, button_savejobinfo, button_savememinfo, output)\n",
    "#display(button_saveplot, output)\n",
    "\n",
    "## TODO: Pass on b the data (job_id, hostname, etc)\n",
    "def save_plot_to_pdf_click(b):\n",
    "    with output:\n",
    "        #fig=plt.gcf()\n",
    "        #print(gfig)\n",
    "        fig_filename='../figures/marconi100_interact_plot_mem_free_profile_'+current_job_id+'.pdf'\n",
    "        gfig.savefig(fig_filename, format='pdf', dpi=300, bbox_inches='tight')\n",
    "        print('Plot saved as '+fig_filename, end=\"\\r\")\n",
    "\n",
    "def save_job_info_click(b):\n",
    "    with output:\n",
    "        job_filename='../samples_jobs_mem_profiles/'+current_job_id+'_job_info.csv'\n",
    "        pd.DataFrame(gjob).transpose().to_csv(job_filename, index=False, sep=\",\")        \n",
    "        print('Job info saved as '+job_filename, end=\"\\r\")\n",
    "\n",
    "def save_mem_profile_click(b):\n",
    "    with output:\n",
    "        profile_filename='../samples_jobs_mem_profiles/'+current_job_id+'_mem_profile.csv'\n",
    "        gprofile.to_csv(profile_filename, index=False, sep=\",\")\n",
    "        print('Job mem profile saved as '+profile_filename, end=\"\\r\")\n",
    "\n",
    "button_saveplot.on_click(save_plot_to_pdf_click)\n",
    "button_savejobinfo.on_click(save_job_info_click)\n",
    "button_savememinfo.on_click(save_mem_profile_click)\n",
    "\n",
    "user_ids = df_jobs_viz_multi[\"user_id\"].drop_duplicates().values.tolist()\n",
    "\n",
    "drp_userids = widgets.Dropdown(\n",
    "    options=user_ids,\n",
    "    value=user_ids[0],\n",
    "    description='User ID: ',\n",
    "    disabled=False,\n",
    ")\n",
    "\n",
    "user_nb_jobs = len(df_jobs_viz_multi.loc[df_jobs_viz_multi[\"user_id\"]==user_ids[0]])\n",
    "\n",
    "slider_index_jobs = widgets.IntSlider(min=0, max=user_nb_jobs-1, step=1, value=0)\n",
    "\n",
    "#drp_userids.observe(get_job_energy_profile)\n",
    "\n",
    "# Define a function that updates the intslider's range based on the dropdown selection\n",
    "def update_range(*args):\n",
    "    # Update the range of the intslider based on the selected option in the dropdown\n",
    "    user_nb_jobs = len(df_jobs_viz_multi.loc[df_jobs_viz_multi[\"user_id\"]==drp_userids.value])    \n",
    "    slider_index_jobs.min = 0\n",
    "    slider_index_jobs.max = user_nb_jobs-1\n",
    "    # Reset the intslider's value to the start of the new range\n",
    "    slider_index_jobs.value = slider_index_jobs.min\n",
    "\n",
    "drp_userids.observe(update_range, 'value')\n",
    "\n",
    "\n",
    "interact(call_workflow, index=slider_index_jobs, user_id = drp_userids);"
   ]
  },
  {
   "cell_type": "markdown",
   "metadata": {},
   "source": [
    "Users: \n",
    "\n",
    "- 1430: long jobs\n",
    "- 790\n",
    "- 521: samme pattern\n",
    "- 632: memory leak\n",
    "- 88: some synchronized phases\n",
    "- 838: some syncrhonized phases\n",
    "- 977: same pattern across nodes, periodicity with a large mem consumption\n",
    "- 96: a very weird app\n",
    "- 184: very long jobs\n",
    "- 1427: something close to the \"all over the place\"\n",
    "- 1681: a mix of periodic and constant\n"
   ]
  }
 ],
 "metadata": {
  "kernelspec": {
   "display_name": "base",
   "language": "python",
   "name": "python3"
  },
  "language_info": {
   "codemirror_mode": {
    "name": "ipython",
    "version": 3
   },
   "file_extension": ".py",
   "mimetype": "text/x-python",
   "name": "python",
   "nbconvert_exporter": "python",
   "pygments_lexer": "ipython3",
   "version": "3.9.12"
  },
  "orig_nbformat": 4
 },
 "nbformat": 4,
 "nbformat_minor": 2
}
