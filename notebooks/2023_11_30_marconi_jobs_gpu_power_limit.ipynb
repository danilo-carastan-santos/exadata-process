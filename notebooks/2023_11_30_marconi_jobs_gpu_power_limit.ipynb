{
 "cells": [
  {
   "cell_type": "markdown",
   "metadata": {},
   "source": [
    "# Looking at Marconi100's the GPU power limit data\n",
    "\n",
    "## Goals\n",
    "- Have a first look at the `GpuX_power_management_limit` data\n",
    "  - Fixed 300W cap\n",
    "- See if the timestamps match with `GpuX_power_usage`\n",
    "  - No need to do if the cap is fixed\n",
    "- Parse the `tres_per_node` to get the number of GPUs\n",
    "\n",
    "Only runs on G5K"
   ]
  },
  {
   "cell_type": "code",
   "execution_count": 6,
   "metadata": {},
   "outputs": [
    {
     "data": {
      "text/html": [
       "<div>\n",
       "<style scoped>\n",
       "    .dataframe tbody tr th:only-of-type {\n",
       "        vertical-align: middle;\n",
       "    }\n",
       "\n",
       "    .dataframe tbody tr th {\n",
       "        vertical-align: top;\n",
       "    }\n",
       "\n",
       "    .dataframe thead th {\n",
       "        text-align: right;\n",
       "    }\n",
       "</style>\n",
       "<table border=\"1\" class=\"dataframe\">\n",
       "  <thead>\n",
       "    <tr style=\"text-align: right;\">\n",
       "      <th></th>\n",
       "      <th>timestamp</th>\n",
       "      <th>value</th>\n",
       "      <th>node</th>\n",
       "      <th>gpu</th>\n",
       "      <th>timestamp_seconds</th>\n",
       "    </tr>\n",
       "  </thead>\n",
       "  <tbody>\n",
       "    <tr>\n",
       "      <th>0</th>\n",
       "      <td>2022-05-07 10:21:31+00:00</td>\n",
       "      <td>51.374001</td>\n",
       "      <td>72</td>\n",
       "      <td>0</td>\n",
       "      <td>1.651919e+09</td>\n",
       "    </tr>\n",
       "    <tr>\n",
       "      <th>1</th>\n",
       "      <td>2022-05-07 10:21:52+00:00</td>\n",
       "      <td>51.374001</td>\n",
       "      <td>72</td>\n",
       "      <td>0</td>\n",
       "      <td>1.651919e+09</td>\n",
       "    </tr>\n",
       "    <tr>\n",
       "      <th>2</th>\n",
       "      <td>2022-05-07 10:22:13+00:00</td>\n",
       "      <td>51.374001</td>\n",
       "      <td>72</td>\n",
       "      <td>0</td>\n",
       "      <td>1.651919e+09</td>\n",
       "    </tr>\n",
       "    <tr>\n",
       "      <th>3</th>\n",
       "      <td>2022-05-07 10:22:34+00:00</td>\n",
       "      <td>51.374001</td>\n",
       "      <td>72</td>\n",
       "      <td>0</td>\n",
       "      <td>1.651919e+09</td>\n",
       "    </tr>\n",
       "    <tr>\n",
       "      <th>4</th>\n",
       "      <td>2022-05-07 10:22:55+00:00</td>\n",
       "      <td>51.374001</td>\n",
       "      <td>72</td>\n",
       "      <td>0</td>\n",
       "      <td>1.651919e+09</td>\n",
       "    </tr>\n",
       "    <tr>\n",
       "      <th>...</th>\n",
       "      <td>...</td>\n",
       "      <td>...</td>\n",
       "      <td>...</td>\n",
       "      <td>...</td>\n",
       "      <td>...</td>\n",
       "    </tr>\n",
       "    <tr>\n",
       "      <th>452109085</th>\n",
       "      <td>2022-05-05 16:40:37+00:00</td>\n",
       "      <td>280.036011</td>\n",
       "      <td>700</td>\n",
       "      <td>3</td>\n",
       "      <td>1.651769e+09</td>\n",
       "    </tr>\n",
       "    <tr>\n",
       "      <th>452109086</th>\n",
       "      <td>2022-05-05 16:40:58+00:00</td>\n",
       "      <td>195.654007</td>\n",
       "      <td>700</td>\n",
       "      <td>3</td>\n",
       "      <td>1.651769e+09</td>\n",
       "    </tr>\n",
       "    <tr>\n",
       "      <th>452109087</th>\n",
       "      <td>2022-05-05 16:41:20+00:00</td>\n",
       "      <td>195.654007</td>\n",
       "      <td>700</td>\n",
       "      <td>3</td>\n",
       "      <td>1.651769e+09</td>\n",
       "    </tr>\n",
       "    <tr>\n",
       "      <th>452109088</th>\n",
       "      <td>2022-05-05 16:41:29+00:00</td>\n",
       "      <td>198.216995</td>\n",
       "      <td>700</td>\n",
       "      <td>3</td>\n",
       "      <td>1.651769e+09</td>\n",
       "    </tr>\n",
       "    <tr>\n",
       "      <th>452109089</th>\n",
       "      <td>2022-05-05 16:41:51+00:00</td>\n",
       "      <td>198.216995</td>\n",
       "      <td>700</td>\n",
       "      <td>3</td>\n",
       "      <td>1.651769e+09</td>\n",
       "    </tr>\n",
       "  </tbody>\n",
       "</table>\n",
       "<p>452109090 rows × 5 columns</p>\n",
       "</div>"
      ],
      "text/plain": [
       "                          timestamp       value  node  gpu  timestamp_seconds\n",
       "0         2022-05-07 10:21:31+00:00   51.374001    72    0       1.651919e+09\n",
       "1         2022-05-07 10:21:52+00:00   51.374001    72    0       1.651919e+09\n",
       "2         2022-05-07 10:22:13+00:00   51.374001    72    0       1.651919e+09\n",
       "3         2022-05-07 10:22:34+00:00   51.374001    72    0       1.651919e+09\n",
       "4         2022-05-07 10:22:55+00:00   51.374001    72    0       1.651919e+09\n",
       "...                             ...         ...   ...  ...                ...\n",
       "452109085 2022-05-05 16:40:37+00:00  280.036011   700    3       1.651769e+09\n",
       "452109086 2022-05-05 16:40:58+00:00  195.654007   700    3       1.651769e+09\n",
       "452109087 2022-05-05 16:41:20+00:00  195.654007   700    3       1.651769e+09\n",
       "452109088 2022-05-05 16:41:29+00:00  198.216995   700    3       1.651769e+09\n",
       "452109089 2022-05-05 16:41:51+00:00  198.216995   700    3       1.651769e+09\n",
       "\n",
       "[452109090 rows x 5 columns]"
      ]
     },
     "execution_count": 6,
     "metadata": {},
     "output_type": "execute_result"
    }
   ],
   "source": [
    "import pandas as pd\n",
    "import numpy as np\n",
    "\n",
    "## Time constants\n",
    "NANOSECONDS_ONE_SECOND = 1e9\n",
    "\n",
    "NB_GPUS = 4\n",
    "\n",
    "df_jobs = pd.read_parquet(\"/home/dcarastandossantos/datamove_storage/danilo-carastan-santos/exadata/data/year_month=22-05/plugin=job_table/metric=job_info_marconi100/a_0.parquet\")\n",
    "\n",
    "power_filepaths = [\"/home/dcarastandossantos/datamove_storage/danilo-carastan-santos/exadata/data/year_month=22-05/plugin=ganglia_pub/metric=Gpu\"+str(x)+\"_power_usage/a_0.parquet\" for x in range(NB_GPUS)]\n",
    "\n",
    "df_power = pd.concat([pd.read_parquet(x).assign(gpu=y) for x, y in zip(power_filepaths, range(NB_GPUS))]).reset_index(drop=True)\n",
    "\n",
    "powerlimit_filepaths = [\"/home/dcarastandossantos/datamove_storage/danilo-carastan-santos/exadata/data/year_month=22-05/plugin=ganglia_pub/metric=Gpu\"+str(x)+\"_power_management_limit/a_0.parquet\" for x in range(NB_GPUS)]\n",
    "\n",
    "df_powerlimit = pd.concat([pd.read_parquet(x).assign(gpu=y) for x, y in zip(powerlimit_filepaths, range(NB_GPUS))]).reset_index(drop=True)\n",
    "\n",
    "df_power[\"timestamp_seconds\"] = pd.to_datetime(df_power['timestamp']).astype(int) / NANOSECONDS_ONE_SECOND\n",
    "df_powerlimit[\"timestamp_seconds\"] = pd.to_datetime(df_powerlimit['timestamp']).astype(int) / NANOSECONDS_ONE_SECOND\n",
    "\n",
    "df_jobs[\"submit_time\"] = pd.to_datetime(df_jobs['submit_time']).astype(int) / NANOSECONDS_ONE_SECOND\n",
    "df_jobs[\"start_time\"] = pd.to_datetime(df_jobs['start_time']).astype(int) / NANOSECONDS_ONE_SECOND\n",
    "df_jobs[\"end_time\"] = pd.to_datetime(df_jobs['end_time']).astype(int) / NANOSECONDS_ONE_SECOND\n",
    "\n",
    "df_power['node'] = pd.to_numeric(df_power['node'])\n",
    "df_power['value'] = pd.to_numeric(df_power['value'])\n",
    "\n",
    "#df_power = pd.concat([pd.read_parquet(x).insert(0, \"gpu\", y) for x,y in zip(power_filepaths, range(NB_GPUS))])\n",
    "\n",
    "df_power"
   ]
  },
  {
   "cell_type": "code",
   "execution_count": 9,
   "metadata": {},
   "outputs": [
    {
     "data": {
      "text/plain": [
       "count    452109027.0\n",
       "mean           300.0\n",
       "std              0.0\n",
       "min            300.0\n",
       "25%            300.0\n",
       "50%            300.0\n",
       "75%            300.0\n",
       "max            300.0\n",
       "Name: value, dtype: float64"
      ]
     },
     "execution_count": 9,
     "metadata": {},
     "output_type": "execute_result"
    }
   ],
   "source": [
    "df_powerlimit[\"value\"].describe()"
   ]
  },
  {
   "cell_type": "markdown",
   "metadata": {},
   "source": [
    "Uncapped GPUs, ok"
   ]
  },
  {
   "cell_type": "markdown",
   "metadata": {},
   "source": [
    "`tres_per_node` with values `gres:gpu:x`. `x` seems to really refer to number of GPUs per node, and it's an input by the user\n",
    "\n",
    "Source: https://stackoverflow.com/questions/67091056/gpu-allocation-in-slurm-gres-vs-gpus-per-task-and-mpirun-vs-srun"
   ]
  },
  {
   "cell_type": "code",
   "execution_count": 13,
   "metadata": {},
   "outputs": [
    {
     "data": {
      "text/plain": [
       "0                    gres:gpu:0\n",
       "1                    gres:gpu:1\n",
       "2                    gres:gpu:4\n",
       "36                         None\n",
       "84                   gres:gpu:2\n",
       "1452      gres:gpu:4,gres:gpu:4\n",
       "11736                gres:gpu:3\n",
       "12549                gres:gpu:8\n",
       "47124               gres:gpu:12\n",
       "47267                gres:gpu:6\n",
       "87128                gres:sysfs\n",
       "128708           gres:gpu:gpu:4\n",
       "158014                 gres:gpu\n",
       "Name: tres_per_node, dtype: object"
      ]
     },
     "execution_count": 13,
     "metadata": {},
     "output_type": "execute_result"
    }
   ],
   "source": [
    "df_jobs[\"tres_per_node\"].drop_duplicates()"
   ]
  },
  {
   "cell_type": "code",
   "execution_count": 66,
   "metadata": {},
   "outputs": [
    {
     "data": {
      "text/plain": [
       "0         0\n",
       "1         1\n",
       "2         4\n",
       "3         0\n",
       "4         4\n",
       "         ..\n",
       "239937    1\n",
       "239938    1\n",
       "239939    1\n",
       "239940    2\n",
       "239941    1\n",
       "Name: gpus_per_node, Length: 226520, dtype: int32"
      ]
     },
     "execution_count": 66,
     "metadata": {},
     "output_type": "execute_result"
    }
   ],
   "source": [
    "import re\n",
    "\n",
    "allowed_tres_values =  [\"gres:gpu:0\", \"gres:gpu:1\", \"gres:gpu:2\", \"gres:gpu:3\", \"gres:gpu:4\"]\n",
    "#regex = \"gres:gpu:([0-4])\"\n",
    "\n",
    "df_jobs_cpy = df_jobs.copy()\n",
    "\n",
    "df_jobs_cpy = df_jobs_cpy[df_jobs_cpy[\"tres_per_node\"].isin(allowed_tres_values)]\n",
    "\n",
    "df_jobs_cpy[\"gpus_per_node\"] = df_jobs_cpy[\"tres_per_node\"].str.replace(\"gres:gpu:\", \"\").astype(\"int32\")\n",
    "df_jobs_cpy[\"gpus_per_node\"]"
   ]
  }
 ],
 "metadata": {
  "kernelspec": {
   "display_name": "Python 3 (ipykernel)",
   "language": "python",
   "name": "python3"
  },
  "language_info": {
   "codemirror_mode": {
    "name": "ipython",
    "version": 3
   },
   "file_extension": ".py",
   "mimetype": "text/x-python",
   "name": "python",
   "nbconvert_exporter": "python",
   "pygments_lexer": "ipython3",
   "version": "3.10.9"
  }
 },
 "nbformat": 4,
 "nbformat_minor": 2
}
