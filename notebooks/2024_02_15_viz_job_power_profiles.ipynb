{
 "cells": [
  {
   "cell_type": "markdown",
   "metadata": {},
   "source": [
    "# Visualization of Marconi100 jobs power profile\n",
    "\n",
    "Here i'm using the filtered jobs from the `mem_free` metric. It can have jobs with no power profile but we preserve the exclusive node allocation for the jobs.\n",
    "I start looking at the multi-node jobs because they are more interesting "
   ]
  },
  {
   "cell_type": "code",
   "execution_count": 1,
   "metadata": {},
   "outputs": [
    {
     "name": "stdout",
     "output_type": "stream",
     "text": [
      "            timestamp  value  node\n",
      "0 2022-05-14 21:59:00    820   224\n",
      "1 2022-05-14 21:59:20    540   224\n",
      "2 2022-05-14 21:59:40    540   224\n",
      "3 2022-05-13 22:00:00   1280   225\n",
      "4 2022-05-13 22:00:20   1120   225\n",
      "5 2022-05-13 22:00:40    940   225\n",
      "6 2022-05-13 22:01:00    940   225\n",
      "7 2022-05-13 22:01:20    700   225\n",
      "8 2022-05-13 22:01:40    800   225\n",
      "9 2022-05-13 22:02:00   1300   225\n"
     ]
    }
   ],
   "source": [
    "import pandas as pd\n",
    "\n",
    "df_jobs_viz_multi = pd.read_csv(\"../example_data/plugin=job_table/metric=job_info_marconi100/metric=mem_free_filter123_multinode.csv\")\n",
    "\n",
    "df_metric = pd.read_parquet(\"../example_data/plugin=ipmi_pub/metric=total_power/a_0.parquet\")\n",
    "df_metric['node'] = pd.to_numeric(df_metric['node'])\n",
    "df_metric['value'] = pd.to_numeric(df_metric['value'])\n",
    "\n",
    "print(df_metric.head(10))"
   ]
  },
  {
   "cell_type": "code",
   "execution_count": 14,
   "metadata": {},
   "outputs": [
    {
     "data": {
      "application/vnd.jupyter.widget-view+json": {
       "model_id": "298c3790f9f247bf9f9bcd6107ba8194",
       "version_major": 2,
       "version_minor": 0
      },
      "text/plain": [
       "Button(description='Save to PDF', style=ButtonStyle())"
      ]
     },
     "metadata": {},
     "output_type": "display_data"
    },
    {
     "data": {
      "application/vnd.jupyter.widget-view+json": {
       "model_id": "bc222583df8141fc895a6ad15aafc2bc",
       "version_major": 2,
       "version_minor": 0
      },
      "text/plain": [
       "Button(description='Save job info to CSV', style=ButtonStyle())"
      ]
     },
     "metadata": {},
     "output_type": "display_data"
    },
    {
     "data": {
      "application/vnd.jupyter.widget-view+json": {
       "model_id": "f971d72f57aa41c3b6bbae91f03e547f",
       "version_major": 2,
       "version_minor": 0
      },
      "text/plain": [
       "Button(description='Save mem. profile to CSV', style=ButtonStyle())"
      ]
     },
     "metadata": {},
     "output_type": "display_data"
    },
    {
     "data": {
      "application/vnd.jupyter.widget-view+json": {
       "model_id": "cf5d6b334231483b9ad403e2eecf9f43",
       "version_major": 2,
       "version_minor": 0
      },
      "text/plain": [
       "Output()"
      ]
     },
     "metadata": {},
     "output_type": "display_data"
    },
    {
     "name": "stdout",
     "output_type": "stream",
     "text": [
      "966\n"
     ]
    },
    {
     "data": {
      "application/vnd.jupyter.widget-view+json": {
       "model_id": "a8d04ab4081142ee9248059c1278c093",
       "version_major": 2,
       "version_minor": 0
      },
      "text/plain": [
       "interactive(children=(IntSlider(value=0, description='index', max=9), Dropdown(description='User ID: ', option…"
      ]
     },
     "metadata": {},
     "output_type": "display_data"
    }
   ],
   "source": [
    "from __future__ import print_function\n",
    "from ipywidgets import interact, interactive, fixed, interact_manual\n",
    "import ipywidgets as widgets\n",
    "import seaborn as sns\n",
    "import matplotlib.pyplot as plt\n",
    "import ast\n",
    "\n",
    "#gfig = None\n",
    "\n",
    "\n",
    "\n",
    "def call_workflow(index,user_id):\n",
    "    get_job_energy_profile(index, user_id)\n",
    "\n",
    "def get_job_energy_profile(index, user_id):\n",
    "    global current_job_id, current_hostname, user_nb_jobs\n",
    "    annot_str=''\n",
    "    df_jobs_viz_user = df_jobs_viz_multi.loc[df_jobs_viz_multi[\"user_id\"] == user_id]\n",
    "    user_nb_jobs = len(df_jobs_viz_user)\n",
    "    job=df_jobs_viz_user.iloc[index,:]\n",
    "    nodes=ast.literal_eval(job['nodes'])\n",
    "    start_time=job[\"start_time\"]\n",
    "    end_time=job[\"end_time\"]\n",
    "\n",
    "    current_job_id=str(job['job_id'])\n",
    "    #for node in nodes:\n",
    "        #print(node)\n",
    "    df_node = df_metric.loc[df_metric['node'].isin(nodes)]\n",
    "    df_node_job = df_node.loc[df_node['timestamp'].between(start_time, end_time)]\n",
    "    if len(df_node_job) > 0:\n",
    "        #print(df_node_job.describe(), end=\"\\r\")\n",
    "        plot_energy_profile(df_node_job, job, annot_str)\n",
    "    #print(nodes)\n",
    "     \n",
    "    #plot_energy_profile(job_energy_profile, annot_str)    \n",
    "    #current_hostname=energy_host\n",
    "    ##\n",
    "    #describe=job_energy_profile.describe(percentiles=[.10, .25, .5, .75, .90])\n",
    "    #describe['job_id']=job['job_id']\n",
    "    #describe['socket']=socket\n",
    "    #describe['pp0']=describe[right_pp0]\n",
    "    #describe['DRAM']=describe[right_DRAM]\n",
    "    #describe['stat']=describe.index\n",
    "    #describe=describe.reset_index(drop=True)[arr_cols]  \n",
    "    #print(describe)  \n",
    "\n",
    "\n",
    "def plot_energy_profile(profile, job, annot_str):\n",
    "    TINY_SIZE = 2\n",
    "    SMALL_SIZE = 5\n",
    "    MEDIUM_SIZE = 25\n",
    "    LESS_MEDIUM_SIZE = 30\n",
    "    LARGE_SIZE = 45\n",
    "    BIGGER_SIZE = 50\n",
    "    FIG_WIDTH = 40\n",
    "    FIG_HEIGHT = 10\n",
    "\n",
    "    global gfig, gjob, gprofile  \n",
    "\n",
    "    gjob=job\n",
    "    gprofile=profile\n",
    "\n",
    "    plt.rc('font', size=LARGE_SIZE)          # controls default text sizes\n",
    "    plt.rc('axes', titlesize=LARGE_SIZE)     # fontsize of the axes title\n",
    "    plt.rc('axes', labelsize=LARGE_SIZE)     # fontsize of the x and y labels\n",
    "    plt.rc('xtick', labelsize=LARGE_SIZE)    # fontsize of the tick labels\n",
    "    plt.rc('ytick', labelsize=LARGE_SIZE)    # fontsize of the tick labels\n",
    "    plt.rc('legend', fontsize=LESS_MEDIUM_SIZE)    # legend fontsize\n",
    "    plt.rc('figure', titlesize=MEDIUM_SIZE)  # fontsize of the figure title\n",
    "    scatterplot_kwargs={'s': 50, 'palette': 'plasma'}\n",
    "    lineplot_kwargs={'linewidth': 1}\n",
    "\n",
    "    plt.clf()\n",
    "    fig = plt.figure(figsize=(FIG_WIDTH,FIG_HEIGHT))\n",
    "    #ax = sns.boxplot(x='stat', y='value', data=plot_data, showfliers=False, hue='reading',\n",
    "    #             linewidth=TINY_SIZE)\n",
    "\n",
    "    #ax = sns.scatterplot(data=profile, x='timestamp', y='value', **scatterplot_kwargs)\n",
    "\n",
    "    palette = sns.color_palette(\"viridis\", n_colors=job['num_nodes'])\n",
    "    ax = sns.lineplot(data=profile, x='timestamp', y='value', hue='node', palette=palette, **lineplot_kwargs)\n",
    "    #ax = sns.scatterplot(data=profile, x='timestamp', y='value', hue='node', palette=palette, **lineplot_kwargs)\n",
    "\n",
    "    ## SET BORDERS SIZE AND WIDTH\n",
    "    [line.set_linewidth(TINY_SIZE) for line in ax.spines.values()]\n",
    "    [line.set_markersize(TINY_SIZE) for line in ax.yaxis.get_ticklines()]\n",
    "    [line.set_markeredgewidth(TINY_SIZE) for line in ax.yaxis.get_ticklines()]\n",
    "    [line.set_markersize(SMALL_SIZE) for line in ax.xaxis.get_ticklines()]\n",
    "    [line.set_markeredgewidth(TINY_SIZE) for line in ax.xaxis.get_ticklines()]\n",
    "    #ax.text(x=0.1,y=0.5,\n",
    "    #        s=annot_str,\n",
    "    #        fontdict=dict(color='red',size=MEDIUM_SIZE),\n",
    "    #        bbox=dict(facecolor='yellow',alpha=0.5),\n",
    "    #        horizontalalignment='left',\n",
    "    #        verticalalignment='center',\n",
    "    #        transform=ax.transAxes)\n",
    "    ax.set_ylabel('Node total power (W)')\n",
    "    ax.set_xlabel('Timestamp')\n",
    "    ax.legend(title=\"Node\", loc=\"upper right\")\n",
    "    #ax.set_title('Job ID: '+current_job_id)    \n",
    "    gfig = fig\n",
    "\n",
    "button_saveplot = widgets.Button(description=\"Save to PDF\")\n",
    "button_savejobinfo = widgets.Button(description=\"Save job info to CSV\")\n",
    "button_savememinfo = widgets.Button(description=\"Save mem. profile to CSV\")\n",
    "output = widgets.Output()\n",
    "\n",
    "display(button_saveplot, button_savejobinfo, button_savememinfo, output)\n",
    "#display(button_saveplot, output)\n",
    "\n",
    "## TODO: Pass on b the data (job_id, hostname, etc)\n",
    "def save_plot_to_pdf_click(b):\n",
    "    with output:\n",
    "        #fig=plt.gcf()\n",
    "        #print(gfig)\n",
    "        fig_filename='../figures/marconi100_interact_plot_total_power_profile_'+current_job_id+'.pdf'\n",
    "        gfig.savefig(fig_filename, format='pdf', dpi=300, bbox_inches='tight')\n",
    "        print('Plot saved as '+fig_filename, end=\"\\r\")\n",
    "\n",
    "def save_job_info_click(b):\n",
    "    with output:\n",
    "        job_filename='../samples_jobs_mem_profiles/'+current_job_id+'_job_info.csv'\n",
    "        pd.DataFrame(gjob).transpose().to_csv(job_filename, index=False, sep=\",\")        \n",
    "        print('Job info saved as '+job_filename, end=\"\\r\")\n",
    "\n",
    "def save_mem_profile_click(b):\n",
    "    with output:\n",
    "        profile_filename='../samples_jobs_mem_profiles/'+current_job_id+'_mem_profile.csv'\n",
    "        gprofile.to_csv(profile_filename, index=False, sep=\",\")\n",
    "        print('Job mem profile saved as '+profile_filename, end=\"\\r\")\n",
    "\n",
    "button_saveplot.on_click(save_plot_to_pdf_click)\n",
    "button_savejobinfo.on_click(save_job_info_click)\n",
    "button_savememinfo.on_click(save_mem_profile_click)\n",
    "\n",
    "user_ids = df_jobs_viz_multi[\"user_id\"].drop_duplicates().values.tolist()\n",
    "\n",
    "drp_userids = widgets.Dropdown(\n",
    "    options=user_ids,\n",
    "    value=user_ids[0],\n",
    "    description='User ID: ',\n",
    "    disabled=False,\n",
    ")\n",
    "\n",
    "print(len(df_jobs_viz_multi))\n",
    "user_nb_jobs = len(df_jobs_viz_multi.loc[df_jobs_viz_multi[\"user_id\"]==user_ids[0]])\n",
    "\n",
    "slider_index_jobs = widgets.IntSlider(min=0, max=user_nb_jobs-1, step=1, value=0)\n",
    "\n",
    "#drp_userids.observe(get_job_energy_profile)\n",
    "\n",
    "# Define a function that updates the intslider's range based on the dropdown selection\n",
    "def update_range(*args):\n",
    "    # Update the range of the intslider based on the selected option in the dropdown\n",
    "    user_nb_jobs = len(df_jobs_viz_multi.loc[df_jobs_viz_multi[\"user_id\"]==drp_userids.value])    \n",
    "    slider_index_jobs.min = 0\n",
    "    slider_index_jobs.max = user_nb_jobs-1\n",
    "    # Reset the intslider's value to the start of the new range\n",
    "    slider_index_jobs.value = slider_index_jobs.min\n",
    "\n",
    "drp_userids.observe(update_range, 'value')\n",
    "\n",
    "\n",
    "interact(call_workflow, index=slider_index_jobs, user_id = drp_userids);"
   ]
  },
  {
   "cell_type": "markdown",
   "metadata": {},
   "source": [
    "1. user 212\n",
    "2. user 262, job 2"
   ]
  }
 ],
 "metadata": {
  "kernelspec": {
   "display_name": "base",
   "language": "python",
   "name": "python3"
  },
  "language_info": {
   "codemirror_mode": {
    "name": "ipython",
    "version": 3
   },
   "file_extension": ".py",
   "mimetype": "text/x-python",
   "name": "python",
   "nbconvert_exporter": "python",
   "pygments_lexer": "ipython3",
   "version": "3.9.12"
  }
 },
 "nbformat": 4,
 "nbformat_minor": 2
}
